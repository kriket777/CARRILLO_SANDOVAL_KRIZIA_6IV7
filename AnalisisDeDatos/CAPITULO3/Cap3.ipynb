{
 "cells": [
  {
   "cell_type": "markdown",
   "id": "9d85069a",
   "metadata": {},
   "source": [
    "# Capitulo 3. Clasificación"
   ]
  },
  {
   "cell_type": "markdown",
   "id": "f28483b2",
   "metadata": {},
   "source": [
    "Proyecto de clasificación, para diagnosticar medicamenttos basándose en las caracteristicas de los pacientes."
   ]
  },
  {
   "cell_type": "code",
   "execution_count": 35,
   "id": "9778512d",
   "metadata": {},
   "outputs": [],
   "source": [
    "# Importa las librerias <3 \n",
    "import pandas as pd\n",
    "import numpy as np\n",
    "import matplotlib.pyplot as plt"
   ]
  },
  {
   "cell_type": "markdown",
   "id": "0f1b7738",
   "metadata": {},
   "source": [
    "## <span style=\"color:green\">1. Descargar los datos 📉</span>\n",
    "\n",
    "EN ESTE PROYECTO SOLO VAMOS A NECESITAR LA BASE DE DATOS drug200.csv.💊\n",
    "\n",
    "https://github.com/a2Proyectos/MachineLearning_Data\n",
    "\n"
   ]
  },
  {
   "cell_type": "code",
   "execution_count": 30,
   "id": "9602a08f",
   "metadata": {},
   "outputs": [],
   "source": [
    "## Define una función para extraer los datos\n",
    "#DOWNLOAD_ROOT es la base del GitHub donde vamos a estar descargando las bases de datos.s\n",
    "DOWNLOAD_ROOT = \"https://raw.githubusercontent.com/a2Proyectos/MachineLearning_Data/main/\"\n",
    "#Complementos con la dirección especifica de la base de datos que queremos.\n",
    "MEDICAMENTOS = \"Capitulo_3/drug200.csv\"\n",
    "\n",
    "def extraer_datos(root, database):\n",
    "\n",
    "    csv_path = root + database\n",
    "\n",
    "    return pd.read_csv(csv_path)"
   ]
  },
  {
   "cell_type": "code",
   "execution_count": 31,
   "id": "72270dd6",
   "metadata": {},
   "outputs": [
    {
     "data": {
      "text/html": [
       "<div>\n",
       "<style scoped>\n",
       "    .dataframe tbody tr th:only-of-type {\n",
       "        vertical-align: middle;\n",
       "    }\n",
       "\n",
       "    .dataframe tbody tr th {\n",
       "        vertical-align: top;\n",
       "    }\n",
       "\n",
       "    .dataframe thead th {\n",
       "        text-align: right;\n",
       "    }\n",
       "</style>\n",
       "<table border=\"1\" class=\"dataframe\">\n",
       "  <thead>\n",
       "    <tr style=\"text-align: right;\">\n",
       "      <th></th>\n",
       "      <th>Age</th>\n",
       "      <th>Sex</th>\n",
       "      <th>BP</th>\n",
       "      <th>Cholesterol</th>\n",
       "      <th>Na_to_K</th>\n",
       "      <th>Drug</th>\n",
       "    </tr>\n",
       "  </thead>\n",
       "  <tbody>\n",
       "    <tr>\n",
       "      <th>0</th>\n",
       "      <td>23</td>\n",
       "      <td>F</td>\n",
       "      <td>HIGH</td>\n",
       "      <td>HIGH</td>\n",
       "      <td>25.355</td>\n",
       "      <td>DrugY</td>\n",
       "    </tr>\n",
       "    <tr>\n",
       "      <th>1</th>\n",
       "      <td>47</td>\n",
       "      <td>M</td>\n",
       "      <td>LOW</td>\n",
       "      <td>HIGH</td>\n",
       "      <td>13.093</td>\n",
       "      <td>drugC</td>\n",
       "    </tr>\n",
       "    <tr>\n",
       "      <th>2</th>\n",
       "      <td>47</td>\n",
       "      <td>M</td>\n",
       "      <td>LOW</td>\n",
       "      <td>HIGH</td>\n",
       "      <td>10.114</td>\n",
       "      <td>drugC</td>\n",
       "    </tr>\n",
       "    <tr>\n",
       "      <th>3</th>\n",
       "      <td>28</td>\n",
       "      <td>F</td>\n",
       "      <td>NORMAL</td>\n",
       "      <td>HIGH</td>\n",
       "      <td>7.798</td>\n",
       "      <td>drugX</td>\n",
       "    </tr>\n",
       "    <tr>\n",
       "      <th>4</th>\n",
       "      <td>61</td>\n",
       "      <td>F</td>\n",
       "      <td>LOW</td>\n",
       "      <td>HIGH</td>\n",
       "      <td>18.043</td>\n",
       "      <td>DrugY</td>\n",
       "    </tr>\n",
       "  </tbody>\n",
       "</table>\n",
       "</div>"
      ],
      "text/plain": [
       "   Age Sex      BP Cholesterol  Na_to_K   Drug\n",
       "0   23   F    HIGH        HIGH   25.355  DrugY\n",
       "1   47   M     LOW        HIGH   13.093  drugC\n",
       "2   47   M     LOW        HIGH   10.114  drugC\n",
       "3   28   F  NORMAL        HIGH    7.798  drugX\n",
       "4   61   F     LOW        HIGH   18.043  DrugY"
      ]
     },
     "execution_count": 31,
     "metadata": {},
     "output_type": "execute_result"
    }
   ],
   "source": [
    "# Visualiza el DataFrame\n",
    "df = extraer_datos(DOWNLOAD_ROOT, MEDICAMENTOS)\n",
    "df.head()"
   ]
  },
  {
   "cell_type": "code",
   "execution_count": 33,
   "id": "170ce4ae",
   "metadata": {},
   "outputs": [
    {
     "name": "stdout",
     "output_type": "stream",
     "text": [
      "<class 'pandas.core.frame.DataFrame'>\n",
      "RangeIndex: 200 entries, 0 to 199\n",
      "Data columns (total 6 columns):\n",
      " #   Column       Non-Null Count  Dtype  \n",
      "---  ------       --------------  -----  \n",
      " 0   Age          200 non-null    int64  \n",
      " 1   Sex          200 non-null    object \n",
      " 2   BP           200 non-null    object \n",
      " 3   Cholesterol  200 non-null    object \n",
      " 4   Na_to_K      200 non-null    float64\n",
      " 5   Drug         200 non-null    object \n",
      "dtypes: float64(1), int64(1), object(4)\n",
      "memory usage: 9.5+ KB\n"
     ]
    }
   ],
   "source": [
    "# Obten información de los datos.\n",
    "df.info()"
   ]
  },
  {
   "cell_type": "markdown",
   "id": "39f196f8-d5d5-466e-857b-fbde89d224f5",
   "metadata": {},
   "source": [
    "## <span style=\"color:green\">2. Análisis de cada Variable</span>"
   ]
  },
  {
   "cell_type": "code",
   "execution_count": 37,
   "id": "08e75eb2",
   "metadata": {},
   "outputs": [
    {
     "data": {
      "text/plain": [
       "<Figure size 900x500 with 0 Axes>"
      ]
     },
     "metadata": {},
     "output_type": "display_data"
    },
    {
     "data": {
      "image/png": "[encoded data removed]",
      "text/plain": [
       "<Figure size 500x500 with 1 Axes>"
      ]
     },
     "metadata": {},
     "output_type": "display_data"
    }
   ],
   "source": [
    "#Importa seaborn para tener gráficos más chidos\n",
    "import seaborn as sns\n",
    "#Gráfica la variable \n",
    "sns.set(style=\"whitegrid\")\n",
    "#Establece una área de figsize(9,5) es decir, el tamaño de la imagen\n",
    "plt.figure(figsize=(9,5))\n",
    "#Crea un displot para de la edad (por ser una variable numérica)\n",
    "sns.displot(df.Age, kde=True)\n",
    "plt.title('Distribución de la Edad')\n",
    "plt.show()"
   ]
  },
  {
   "cell_type": "code",
   "execution_count": 38,
   "id": "6f180aa1",
   "metadata": {},
   "outputs": [
    {
     "data": {
      "text/plain": [
       "Sex\n",
       "M    104\n",
       "F     96\n",
       "Name: count, dtype: int64"
      ]
     },
     "execution_count": 38,
     "metadata": {},
     "output_type": "execute_result"
    }
   ],
   "source": [
    "# Género: cuenta cuántos hombres y mujeres hay\n",
    "df.Sex.value_counts()"
   ]
  },
  {
   "cell_type": "code",
   "execution_count": null,
   "id": "cdc6b68f",
   "metadata": {},
   "outputs": [
    {
     "data": {
      "image/png": "[encoded data removed]",
      "text/plain": [
       "<Figure size 900x500 with 1 Axes>"
      ]
     },
     "metadata": {},
     "output_type": "display_data"
    }
   ],
   "source": [
    "# Crea una gráfica de barras para Presión Sanguinea\n",
    "plt.figure(figsize = (9,5))\n",
    "sns.histplot(data=df,x=\"BP\", hue=\"BP\")\n",
    "\n",
    "plt.title('Distribución de la presión sanguínea')\n",
    "plt.show()"
   ]
  },
  {
   "cell_type": "code",
   "execution_count": null,
   "id": "7189311b",
   "metadata": {},
   "outputs": [
    {
     "data": {
      "image/png": "[encoded data removed]",
      "text/plain": [
       "<Figure size 900x500 with 1 Axes>"
      ]
     },
     "metadata": {},
     "output_type": "display_data"
    }
   ],
   "source": [
    "# Crea una gráfica de barras para Colesterol\n",
    "plt.figure(figsize = (9,5))\n",
    "sns.histplot(data=df, x=\"Cholesterol\", hue=\"Cholesterol\")\n",
    "\n",
    "plt.title('Distribución del colesterol')\n",
    "plt.show()"
   ]
  },
  {
   "cell_type": "code",
   "execution_count": null,
   "id": "60bded5c",
   "metadata": {},
   "outputs": [
    {
     "data": {
      "text/plain": [
       "<Figure size 900x500 with 0 Axes>"
      ]
     },
     "metadata": {},
     "output_type": "display_data"
    },
    {
     "data": {
      "image/png": "[encoded data removed]",
      "text/plain": [
       "<Figure size 500x500 with 1 Axes>"
      ]
     },
     "metadata": {},
     "output_type": "display_data"
    }
   ],
   "source": [
    "# Crea un displot para Sodio Potasio\n",
    "plt.figure(figsize = (9,5))\n",
    "sns.displot(df.Na_to_K, kde=True)\n",
    "\n",
    "plt.title('Distribución del equilibrio sodio potasio')\n",
    "plt.show()"
   ]
  },
  {
   "cell_type": "code",
   "execution_count": null,
   "id": "49538c51",
   "metadata": {},
   "outputs": [
    {
     "data": {
      "image/png": "[encoded data removed]",
      "text/plain": [
       "<Figure size 900x500 with 1 Axes>"
      ]
     },
     "metadata": {},
     "output_type": "display_data"
    },
    {
     "data": {
      "text/plain": [
       "Drug\n",
       "DrugY    91\n",
       "drugX    54\n",
       "drugA    23\n",
       "drugC    16\n",
       "drugB    16\n",
       "Name: count, dtype: int64"
      ]
     },
     "execution_count": 42,
     "metadata": {},
     "output_type": "execute_result"
    }
   ],
   "source": [
    "# Crea una gráfica de barras para los Medicamentos (droga) 💊\n",
    "plt.figure(figsize = (9,5))\n",
    "sns.histplot(data=df, x=\"Drug\", hue=\"Drug\")\n",
    "\n",
    "plt.title('Distribución de las Drugs')\n",
    "plt.show()\n",
    "#Cuenta los medicamentos\n",
    "df.Drug.value_counts()"
   ]
  },
  {
   "cell_type": "markdown",
   "id": "1797db2e-0be1-45a9-9496-6f7ce3580db6",
   "metadata": {},
   "source": [
    "***"
   ]
  },
  {
   "cell_type": "markdown",
   "id": "736b6587-e7a8-4000-b8d3-e1c74c4ad6a2",
   "metadata": {},
   "source": [
    "## <span style=\"color:green\">3. Análisis de Relación entre Variables</span>\n"
   ]
  },
  {
   "cell_type": "code",
   "execution_count": null,
   "id": "b24725f4",
   "metadata": {},
   "outputs": [
    {
     "data": {
      "image/png": "[encoded data removed]",
      "text/plain": [
       "<Figure size 900x500 with 1 Axes>"
      ]
     },
     "metadata": {},
     "output_type": "display_data"
    }
   ],
   "source": [
    "## Grafica (con swarmplot) la relación entre la Edad y los Medicamentos que se les da acorde a 💊\n",
    "plt.figure(figsize = (9,5))\n",
    "sns.swarmplot(x = \"Drug\", y = \"Age\", hue=\"Drug\", data = df)\n",
    "plt.legend(df.Drug.value_counts().index)\n",
    "\n",
    "plt.title(\"Edad/Medicamento\")\n",
    "plt.show()"
   ]
  },
  {
   "cell_type": "code",
   "execution_count": 50,
   "id": "b2233b26",
   "metadata": {},
   "outputs": [
    {
     "data": {
      "text/html": [
       "<div>\n",
       "<style scoped>\n",
       "    .dataframe tbody tr th:only-of-type {\n",
       "        vertical-align: middle;\n",
       "    }\n",
       "\n",
       "    .dataframe tbody tr th {\n",
       "        vertical-align: top;\n",
       "    }\n",
       "\n",
       "    .dataframe thead th {\n",
       "        text-align: right;\n",
       "    }\n",
       "</style>\n",
       "<table border=\"1\" class=\"dataframe\">\n",
       "  <thead>\n",
       "    <tr style=\"text-align: right;\">\n",
       "      <th></th>\n",
       "      <th>Drug</th>\n",
       "      <th>Sex</th>\n",
       "      <th>Count</th>\n",
       "    </tr>\n",
       "  </thead>\n",
       "  <tbody>\n",
       "    <tr>\n",
       "      <th>0</th>\n",
       "      <td>DrugY</td>\n",
       "      <td>F</td>\n",
       "      <td>47</td>\n",
       "    </tr>\n",
       "    <tr>\n",
       "      <th>1</th>\n",
       "      <td>DrugY</td>\n",
       "      <td>M</td>\n",
       "      <td>44</td>\n",
       "    </tr>\n",
       "    <tr>\n",
       "      <th>2</th>\n",
       "      <td>drugA</td>\n",
       "      <td>F</td>\n",
       "      <td>9</td>\n",
       "    </tr>\n",
       "    <tr>\n",
       "      <th>3</th>\n",
       "      <td>drugA</td>\n",
       "      <td>M</td>\n",
       "      <td>14</td>\n",
       "    </tr>\n",
       "    <tr>\n",
       "      <th>4</th>\n",
       "      <td>drugB</td>\n",
       "      <td>F</td>\n",
       "      <td>6</td>\n",
       "    </tr>\n",
       "    <tr>\n",
       "      <th>5</th>\n",
       "      <td>drugB</td>\n",
       "      <td>M</td>\n",
       "      <td>10</td>\n",
       "    </tr>\n",
       "    <tr>\n",
       "      <th>6</th>\n",
       "      <td>drugC</td>\n",
       "      <td>F</td>\n",
       "      <td>7</td>\n",
       "    </tr>\n",
       "    <tr>\n",
       "      <th>7</th>\n",
       "      <td>drugC</td>\n",
       "      <td>M</td>\n",
       "      <td>9</td>\n",
       "    </tr>\n",
       "    <tr>\n",
       "      <th>8</th>\n",
       "      <td>drugX</td>\n",
       "      <td>F</td>\n",
       "      <td>27</td>\n",
       "    </tr>\n",
       "    <tr>\n",
       "      <th>9</th>\n",
       "      <td>drugX</td>\n",
       "      <td>M</td>\n",
       "      <td>27</td>\n",
       "    </tr>\n",
       "  </tbody>\n",
       "</table>\n",
       "</div>"
      ],
      "text/plain": [
       "    Drug Sex  Count\n",
       "0  DrugY   F     47\n",
       "1  DrugY   M     44\n",
       "2  drugA   F      9\n",
       "3  drugA   M     14\n",
       "4  drugB   F      6\n",
       "5  drugB   M     10\n",
       "6  drugC   F      7\n",
       "7  drugC   M      9\n",
       "8  drugX   F     27\n",
       "9  drugX   M     27"
      ]
     },
     "execution_count": 50,
     "metadata": {},
     "output_type": "execute_result"
    }
   ],
   "source": [
    "# Grafica la relación entre el el Género y los Medicamentos 💊 que se les da\n",
    "#Primero armar una tablita para poder graficarlas\n",
    "df_Sex_Drug = df.groupby([\"Drug\",\"Sex\"]).size().reset_index(name = \"Count\")\n",
    "df_Sex_Drug"
   ]
  },
  {
   "cell_type": "code",
   "execution_count": null,
   "id": "d6d2950e",
   "metadata": {},
   "outputs": [
    {
     "data": {
      "image/png": "[encoded data removed]",
      "text/plain": [
       "<Figure size 900x500 with 1 Axes>"
      ]
     },
     "metadata": {},
     "output_type": "display_data"
    }
   ],
   "source": [
    "#Grafica la tablita anterior con una gráfica de barras\n",
    "plt.figure(figsize = (9,5))\n",
    "sns.barplot(x = \"Drug\",y=\"Count\", hue = \"Sex\", data = df_Sex_Drug)\n",
    "\n",
    "plt.title(\"Género/Medicamento\")\n",
    "plt.show()"
   ]
  },
  {
   "cell_type": "code",
   "execution_count": 53,
   "id": "7fba93fc",
   "metadata": {},
   "outputs": [
    {
     "data": {
      "image/png": "[encoded data removed]",
      "text/plain": [
       "<Figure size 900x500 with 1 Axes>"
      ]
     },
     "metadata": {},
     "output_type": "display_data"
    }
   ],
   "source": [
    "# Grafica la relación entre la Presión Sanguínea y los Medicamentos 💊\n",
    "df_BP_Drug = df.groupby([\"Drug\",\"BP\"]).size().reset_index(name = \"Count\")\n",
    "\n",
    "plt.figure(figsize = (9,5))\n",
    "sns.barplot(x = \"Drug\", y=\"Count\", hue = \"BP\",data = df_BP_Drug)\n",
    "\n",
    "plt.title(\"Presión Sanguinea/Medicamentos\")\n",
    "plt.show()"
   ]
  },
  {
   "cell_type": "code",
   "execution_count": 54,
   "id": "a0d00f1e",
   "metadata": {},
   "outputs": [
    {
     "data": {
      "image/png": "[encoded data removed]",
      "text/plain": [
       "<Figure size 900x500 with 1 Axes>"
      ]
     },
     "metadata": {},
     "output_type": "display_data"
    }
   ],
   "source": [
    "# Grafica (con una gráfica de barras) la relación entre el nivel de colesterol y los medicamentos 💊\n",
    "df_CH_Drug = df.groupby([\"Drug\",\"Cholesterol\"]).size().reset_index(name = \"Count\")\n",
    "\n",
    "plt.figure(figsize = (9,5))\n",
    "sns.barplot(x = \"Drug\",y=\"Count\", hue = \"Cholesterol\",data = df_CH_Drug)\n",
    "\n",
    "plt.title(\"Cholesterol -- Drug\")\n",
    "plt.show()"
   ]
  },
  {
   "cell_type": "code",
   "execution_count": 59,
   "id": "a1baac67",
   "metadata": {},
   "outputs": [
    {
     "data": {
      "image/png": "[encoded data removed]",
      "text/plain": [
       "<Figure size 900x500 with 1 Axes>"
      ]
     },
     "metadata": {},
     "output_type": "display_data"
    }
   ],
   "source": [
    "#Grafica (con un swarmplot) la relación entre el nivel de Sodio-Potasio y los medicamentos 💊 que se les da\n",
    "plt.figure(figsize = (9,5))\n",
    "sns.swarmplot(x = \"Drug\", y = \"Na_to_K\", data = df, hue = \"BP\")\n",
    "\n",
    "plt.title(\"Sodio-Potasio/Medicamentos\")\n",
    "plt.show()"
   ]
  },
  {
   "cell_type": "markdown",
   "id": "71aa2c62-820d-4fe1-8d8a-11ee79ccb844",
   "metadata": {},
   "source": [
    "***"
   ]
  },
  {
   "cell_type": "markdown",
   "id": "443087ee-ad9e-4aea-ad74-29376817eabb",
   "metadata": {},
   "source": [
    "## <span style=\"color:green\">4. Limpieza y Separación de Datos</span>\n"
   ]
  },
  {
   "cell_type": "code",
   "execution_count": 61,
   "id": "29298ff4",
   "metadata": {},
   "outputs": [],
   "source": [
    "## Utilizar LabelEncoder para procesar variables alfanuméricas como el sexo, BP, Colesterol, étc\n",
    "from sklearn.preprocessing import LabelEncoder\n",
    "\n",
    "def label_encoder(datos_categoria):\n",
    "    le = LabelEncoder()\n",
    "    df[datos_categoria] = le.fit_transform(df[datos_categoria])\n"
   ]
  },
  {
   "cell_type": "code",
   "execution_count": null,
   "id": "4144a67c",
   "metadata": {},
   "outputs": [
    {
     "data": {
      "text/html": [
       "<div>\n",
       "<style scoped>\n",
       "    .dataframe tbody tr th:only-of-type {\n",
       "        vertical-align: middle;\n",
       "    }\n",
       "\n",
       "    .dataframe tbody tr th {\n",
       "        vertical-align: top;\n",
       "    }\n",
       "\n",
       "    .dataframe thead th {\n",
       "        text-align: right;\n",
       "    }\n",
       "</style>\n",
       "<table border=\"1\" class=\"dataframe\">\n",
       "  <thead>\n",
       "    <tr style=\"text-align: right;\">\n",
       "      <th></th>\n",
       "      <th>Age</th>\n",
       "      <th>Sex</th>\n",
       "      <th>BP</th>\n",
       "      <th>Cholesterol</th>\n",
       "      <th>Na_to_K</th>\n",
       "      <th>Drug</th>\n",
       "    </tr>\n",
       "  </thead>\n",
       "  <tbody>\n",
       "    <tr>\n",
       "      <th>0</th>\n",
       "      <td>23</td>\n",
       "      <td>0</td>\n",
       "      <td>0</td>\n",
       "      <td>0</td>\n",
       "      <td>167</td>\n",
       "      <td>0</td>\n",
       "    </tr>\n",
       "    <tr>\n",
       "      <th>1</th>\n",
       "      <td>47</td>\n",
       "      <td>1</td>\n",
       "      <td>1</td>\n",
       "      <td>0</td>\n",
       "      <td>89</td>\n",
       "      <td>3</td>\n",
       "    </tr>\n",
       "    <tr>\n",
       "      <th>2</th>\n",
       "      <td>47</td>\n",
       "      <td>1</td>\n",
       "      <td>1</td>\n",
       "      <td>0</td>\n",
       "      <td>43</td>\n",
       "      <td>3</td>\n",
       "    </tr>\n",
       "    <tr>\n",
       "      <th>3</th>\n",
       "      <td>28</td>\n",
       "      <td>0</td>\n",
       "      <td>2</td>\n",
       "      <td>0</td>\n",
       "      <td>10</td>\n",
       "      <td>4</td>\n",
       "    </tr>\n",
       "    <tr>\n",
       "      <th>4</th>\n",
       "      <td>61</td>\n",
       "      <td>0</td>\n",
       "      <td>1</td>\n",
       "      <td>0</td>\n",
       "      <td>133</td>\n",
       "      <td>0</td>\n",
       "    </tr>\n",
       "  </tbody>\n",
       "</table>\n",
       "</div>"
      ],
      "text/plain": [
       "   Age  Sex  BP  Cholesterol  Na_to_K  Drug\n",
       "0   23    0   0            0      167     0\n",
       "1   47    1   1            0       89     3\n",
       "2   47    1   1            0       43     3\n",
       "3   28    0   2            0       10     4\n",
       "4   61    0   1            0      133     0"
      ]
     },
     "execution_count": 65,
     "metadata": {},
     "output_type": "execute_result"
    }
   ],
   "source": [
    "# Crear set de entrenamiento y set de prueba\n",
    "variables = [\"Sex\",\"BP\",\"Cholesterol\",\"Na_to_K\",\"Drug\"]\n",
    "\n",
    "for l in variables:\n",
    "    label_encoder(l)\n",
    "\n",
    "df.head()\n",
    "\n",
    "x = df.drop([\"Drug\"],axis=1)\n",
    "y = df.Drug\n",
    "\n",
    "from sklearn.model_selection import train_test_split\n",
    "\n",
    "x_train, x_test, y_train, y_test = train_test_split(x,y,test_size = 0.2, random_state = 42, shuffle = True)"
   ]
  },
  {
   "cell_type": "markdown",
   "id": "795b737b-a8b5-47ec-b37a-25ddc33958a1",
   "metadata": {},
   "source": [
    "El 20% de los datos, serán de prueba. Shuffle será true. Semilla de Aleatoriedad=42"
   ]
  },
  {
   "cell_type": "markdown",
   "id": "f1683e08-1f3d-417a-9070-52503a64503a",
   "metadata": {},
   "source": [
    "***"
   ]
  },
  {
   "cell_type": "markdown",
   "id": "72cc823f",
   "metadata": {},
   "source": [
    "## <span style=\"color:green\">5. Modelo de Clasificación Binario</span>\n"
   ]
  },
  {
   "cell_type": "code",
   "execution_count": 87,
   "id": "c3288417",
   "metadata": {},
   "outputs": [],
   "source": [
    "## Crear modelo para medicamento\n",
    "y_train_c = (y_train == 0)\n",
    "\n",
    "y_test_c = (y_test == 0)"
   ]
  },
  {
   "cell_type": "markdown",
   "id": "58f623de-9a2c-440d-8e22-c431204df057",
   "metadata": {},
   "source": [
    "Empezaremos con la medicina Y porque es la más popular y, por ende la más fácil de predecir"
   ]
  },
  {
   "cell_type": "code",
   "execution_count": 70,
   "id": "fba21bcb",
   "metadata": {},
   "outputs": [
    {
     "data": {
      "text/html": [
       "<style>#sk-container-id-1 {\n",
       "  /* Definition of color scheme common for light and dark mode */\n",
       "  --sklearn-color-text: #000;\n",
       "  --sklearn-color-text-muted: #666;\n",
       "  --sklearn-color-line: gray;\n",
       "  /* Definition of color scheme for unfitted estimators */\n",
       "  --sklearn-color-unfitted-level-0: #fff5e6;\n",
       "  --sklearn-color-unfitted-level-1: #f6e4d2;\n",
       "  --sklearn-color-unfitted-level-2: #ffe0b3;\n",
       "  --sklearn-color-unfitted-level-3: chocolate;\n",
       "  /* Definition of color scheme for fitted estimators */\n",
       "  --sklearn-color-fitted-level-0: #f0f8ff;\n",
       "  --sklearn-color-fitted-level-1: #d4ebff;\n",
       "  --sklearn-color-fitted-level-2: #b3dbfd;\n",
       "  --sklearn-color-fitted-level-3: cornflowerblue;\n",
       "\n",
       "  /* Specific color for light theme */\n",
       "  --sklearn-color-text-on-default-background: var(--sg-text-color, var(--theme-code-foreground, var(--jp-content-font-color1, black)));\n",
       "  --sklearn-color-background: var(--sg-background-color, var(--theme-background, var(--jp-layout-color0, white)));\n",
       "  --sklearn-color-border-box: var(--sg-text-color, var(--theme-code-foreground, var(--jp-content-font-color1, black)));\n",
       "  --sklearn-color-icon: #696969;\n",
       "\n",
       "  @media (prefers-color-scheme: dark) {\n",
       "    /* Redefinition of color scheme for dark theme */\n",
       "    --sklearn-color-text-on-default-background: var(--sg-text-color, var(--theme-code-foreground, var(--jp-content-font-color1, white)));\n",
       "    --sklearn-color-background: var(--sg-background-color, var(--theme-background, var(--jp-layout-color0, #111)));\n",
       "    --sklearn-color-border-box: var(--sg-text-color, var(--theme-code-foreground, var(--jp-content-font-color1, white)));\n",
       "    --sklearn-color-icon: #878787;\n",
       "  }\n",
       "}\n",
       "\n",
       "#sk-container-id-1 {\n",
       "  color: var(--sklearn-color-text);\n",
       "}\n",
       "\n",
       "#sk-container-id-1 pre {\n",
       "  padding: 0;\n",
       "}\n",
       "\n",
       "#sk-container-id-1 input.sk-hidden--visually {\n",
       "  border: 0;\n",
       "  clip: rect(1px 1px 1px 1px);\n",
       "  clip: rect(1px, 1px, 1px, 1px);\n",
       "  height: 1px;\n",
       "  margin: -1px;\n",
       "  overflow: hidden;\n",
       "  padding: 0;\n",
       "  position: absolute;\n",
       "  width: 1px;\n",
       "}\n",
       "\n",
       "#sk-container-id-1 div.sk-dashed-wrapped {\n",
       "  border: 1px dashed var(--sklearn-color-line);\n",
       "  margin: 0 0.4em 0.5em 0.4em;\n",
       "  box-sizing: border-box;\n",
       "  padding-bottom: 0.4em;\n",
       "  background-color: var(--sklearn-color-background);\n",
       "}\n",
       "\n",
       "#sk-container-id-1 div.sk-container {\n",
       "  /* jupyter's `normalize.less` sets `[hidden] { display: none; }`\n",
       "     but bootstrap.min.css set `[hidden] { display: none !important; }`\n",
       "     so we also need the `!important` here to be able to override the\n",
       "     default hidden behavior on the sphinx rendered scikit-learn.org.\n",
       "     See: https://github.com/scikit-learn/scikit-learn/issues/21755 */\n",
       "  display: inline-block !important;\n",
       "  position: relative;\n",
       "}\n",
       "\n",
       "#sk-container-id-1 div.sk-text-repr-fallback {\n",
       "  display: none;\n",
       "}\n",
       "\n",
       "div.sk-parallel-item,\n",
       "div.sk-serial,\n",
       "div.sk-item {\n",
       "  /* draw centered vertical line to link estimators */\n",
       "  background-image: linear-gradient(var(--sklearn-color-text-on-default-background), var(--sklearn-color-text-on-default-background));\n",
       "  background-size: 2px 100%;\n",
       "  background-repeat: no-repeat;\n",
       "  background-position: center center;\n",
       "}\n",
       "\n",
       "/* Parallel-specific style estimator block */\n",
       "\n",
       "#sk-container-id-1 div.sk-parallel-item::after {\n",
       "  content: \"\";\n",
       "  width: 100%;\n",
       "  border-bottom: 2px solid var(--sklearn-color-text-on-default-background);\n",
       "  flex-grow: 1;\n",
       "}\n",
       "\n",
       "#sk-container-id-1 div.sk-parallel {\n",
       "  display: flex;\n",
       "  align-items: stretch;\n",
       "  justify-content: center;\n",
       "  background-color: var(--sklearn-color-background);\n",
       "  position: relative;\n",
       "}\n",
       "\n",
       "#sk-container-id-1 div.sk-parallel-item {\n",
       "  display: flex;\n",
       "  flex-direction: column;\n",
       "}\n",
       "\n",
       "#sk-container-id-1 div.sk-parallel-item:first-child::after {\n",
       "  align-self: flex-end;\n",
       "  width: 50%;\n",
       "}\n",
       "\n",
       "#sk-container-id-1 div.sk-parallel-item:last-child::after {\n",
       "  align-self: flex-start;\n",
       "  width: 50%;\n",
       "}\n",
       "\n",
       "#sk-container-id-1 div.sk-parallel-item:only-child::after {\n",
       "  width: 0;\n",
       "}\n",
       "\n",
       "/* Serial-specific style estimator block */\n",
       "\n",
       "#sk-container-id-1 div.sk-serial {\n",
       "  display: flex;\n",
       "  flex-direction: column;\n",
       "  align-items: center;\n",
       "  background-color: var(--sklearn-color-background);\n",
       "  padding-right: 1em;\n",
       "  padding-left: 1em;\n",
       "}\n",
       "\n",
       "\n",
       "/* Toggleable style: style used for estimator/Pipeline/ColumnTransformer box that is\n",
       "clickable and can be expanded/collapsed.\n",
       "- Pipeline and ColumnTransformer use this feature and define the default style\n",
       "- Estimators will overwrite some part of the style using the `sk-estimator` class\n",
       "*/\n",
       "\n",
       "/* Pipeline and ColumnTransformer style (default) */\n",
       "\n",
       "#sk-container-id-1 div.sk-toggleable {\n",
       "  /* Default theme specific background. It is overwritten whether we have a\n",
       "  specific estimator or a Pipeline/ColumnTransformer */\n",
       "  background-color: var(--sklearn-color-background);\n",
       "}\n",
       "\n",
       "/* Toggleable label */\n",
       "#sk-container-id-1 label.sk-toggleable__label {\n",
       "  cursor: pointer;\n",
       "  display: flex;\n",
       "  width: 100%;\n",
       "  margin-bottom: 0;\n",
       "  padding: 0.5em;\n",
       "  box-sizing: border-box;\n",
       "  text-align: center;\n",
       "  align-items: start;\n",
       "  justify-content: space-between;\n",
       "  gap: 0.5em;\n",
       "}\n",
       "\n",
       "#sk-container-id-1 label.sk-toggleable__label .caption {\n",
       "  font-size: 0.6rem;\n",
       "  font-weight: lighter;\n",
       "  color: var(--sklearn-color-text-muted);\n",
       "}\n",
       "\n",
       "#sk-container-id-1 label.sk-toggleable__label-arrow:before {\n",
       "  /* Arrow on the left of the label */\n",
       "  content: \"▸\";\n",
       "  float: left;\n",
       "  margin-right: 0.25em;\n",
       "  color: var(--sklearn-color-icon);\n",
       "}\n",
       "\n",
       "#sk-container-id-1 label.sk-toggleable__label-arrow:hover:before {\n",
       "  color: var(--sklearn-color-text);\n",
       "}\n",
       "\n",
       "/* Toggleable content - dropdown */\n",
       "\n",
       "#sk-container-id-1 div.sk-toggleable__content {\n",
       "  display: none;\n",
       "  text-align: left;\n",
       "  /* unfitted */\n",
       "  background-color: var(--sklearn-color-unfitted-level-0);\n",
       "}\n",
       "\n",
       "#sk-container-id-1 div.sk-toggleable__content.fitted {\n",
       "  /* fitted */\n",
       "  background-color: var(--sklearn-color-fitted-level-0);\n",
       "}\n",
       "\n",
       "#sk-container-id-1 div.sk-toggleable__content pre {\n",
       "  margin: 0.2em;\n",
       "  border-radius: 0.25em;\n",
       "  color: var(--sklearn-color-text);\n",
       "  /* unfitted */\n",
       "  background-color: var(--sklearn-color-unfitted-level-0);\n",
       "}\n",
       "\n",
       "#sk-container-id-1 div.sk-toggleable__content.fitted pre {\n",
       "  /* unfitted */\n",
       "  background-color: var(--sklearn-color-fitted-level-0);\n",
       "}\n",
       "\n",
       "#sk-container-id-1 input.sk-toggleable__control:checked~div.sk-toggleable__content {\n",
       "  /* Expand drop-down */\n",
       "  display: block;\n",
       "  width: 100%;\n",
       "  overflow: visible;\n",
       "}\n",
       "\n",
       "#sk-container-id-1 input.sk-toggleable__control:checked~label.sk-toggleable__label-arrow:before {\n",
       "  content: \"▾\";\n",
       "}\n",
       "\n",
       "/* Pipeline/ColumnTransformer-specific style */\n",
       "\n",
       "#sk-container-id-1 div.sk-label input.sk-toggleable__control:checked~label.sk-toggleable__label {\n",
       "  color: var(--sklearn-color-text);\n",
       "  background-color: var(--sklearn-color-unfitted-level-2);\n",
       "}\n",
       "\n",
       "#sk-container-id-1 div.sk-label.fitted input.sk-toggleable__control:checked~label.sk-toggleable__label {\n",
       "  background-color: var(--sklearn-color-fitted-level-2);\n",
       "}\n",
       "\n",
       "/* Estimator-specific style */\n",
       "\n",
       "/* Colorize estimator box */\n",
       "#sk-container-id-1 div.sk-estimator input.sk-toggleable__control:checked~label.sk-toggleable__label {\n",
       "  /* unfitted */\n",
       "  background-color: var(--sklearn-color-unfitted-level-2);\n",
       "}\n",
       "\n",
       "#sk-container-id-1 div.sk-estimator.fitted input.sk-toggleable__control:checked~label.sk-toggleable__label {\n",
       "  /* fitted */\n",
       "  background-color: var(--sklearn-color-fitted-level-2);\n",
       "}\n",
       "\n",
       "#sk-container-id-1 div.sk-label label.sk-toggleable__label,\n",
       "#sk-container-id-1 div.sk-label label {\n",
       "  /* The background is the default theme color */\n",
       "  color: var(--sklearn-color-text-on-default-background);\n",
       "}\n",
       "\n",
       "/* On hover, darken the color of the background */\n",
       "#sk-container-id-1 div.sk-label:hover label.sk-toggleable__label {\n",
       "  color: var(--sklearn-color-text);\n",
       "  background-color: var(--sklearn-color-unfitted-level-2);\n",
       "}\n",
       "\n",
       "/* Label box, darken color on hover, fitted */\n",
       "#sk-container-id-1 div.sk-label.fitted:hover label.sk-toggleable__label.fitted {\n",
       "  color: var(--sklearn-color-text);\n",
       "  background-color: var(--sklearn-color-fitted-level-2);\n",
       "}\n",
       "\n",
       "/* Estimator label */\n",
       "\n",
       "#sk-container-id-1 div.sk-label label {\n",
       "  font-family: monospace;\n",
       "  font-weight: bold;\n",
       "  display: inline-block;\n",
       "  line-height: 1.2em;\n",
       "}\n",
       "\n",
       "#sk-container-id-1 div.sk-label-container {\n",
       "  text-align: center;\n",
       "}\n",
       "\n",
       "/* Estimator-specific */\n",
       "#sk-container-id-1 div.sk-estimator {\n",
       "  font-family: monospace;\n",
       "  border: 1px dotted var(--sklearn-color-border-box);\n",
       "  border-radius: 0.25em;\n",
       "  box-sizing: border-box;\n",
       "  margin-bottom: 0.5em;\n",
       "  /* unfitted */\n",
       "  background-color: var(--sklearn-color-unfitted-level-0);\n",
       "}\n",
       "\n",
       "#sk-container-id-1 div.sk-estimator.fitted {\n",
       "  /* fitted */\n",
       "  background-color: var(--sklearn-color-fitted-level-0);\n",
       "}\n",
       "\n",
       "/* on hover */\n",
       "#sk-container-id-1 div.sk-estimator:hover {\n",
       "  /* unfitted */\n",
       "  background-color: var(--sklearn-color-unfitted-level-2);\n",
       "}\n",
       "\n",
       "#sk-container-id-1 div.sk-estimator.fitted:hover {\n",
       "  /* fitted */\n",
       "  background-color: var(--sklearn-color-fitted-level-2);\n",
       "}\n",
       "\n",
       "/* Specification for estimator info (e.g. \"i\" and \"?\") */\n",
       "\n",
       "/* Common style for \"i\" and \"?\" */\n",
       "\n",
       ".sk-estimator-doc-link,\n",
       "a:link.sk-estimator-doc-link,\n",
       "a:visited.sk-estimator-doc-link {\n",
       "  float: right;\n",
       "  font-size: smaller;\n",
       "  line-height: 1em;\n",
       "  font-family: monospace;\n",
       "  background-color: var(--sklearn-color-background);\n",
       "  border-radius: 1em;\n",
       "  height: 1em;\n",
       "  width: 1em;\n",
       "  text-decoration: none !important;\n",
       "  margin-left: 0.5em;\n",
       "  text-align: center;\n",
       "  /* unfitted */\n",
       "  border: var(--sklearn-color-unfitted-level-1) 1pt solid;\n",
       "  color: var(--sklearn-color-unfitted-level-1);\n",
       "}\n",
       "\n",
       ".sk-estimator-doc-link.fitted,\n",
       "a:link.sk-estimator-doc-link.fitted,\n",
       "a:visited.sk-estimator-doc-link.fitted {\n",
       "  /* fitted */\n",
       "  border: var(--sklearn-color-fitted-level-1) 1pt solid;\n",
       "  color: var(--sklearn-color-fitted-level-1);\n",
       "}\n",
       "\n",
       "/* On hover */\n",
       "div.sk-estimator:hover .sk-estimator-doc-link:hover,\n",
       ".sk-estimator-doc-link:hover,\n",
       "div.sk-label-container:hover .sk-estimator-doc-link:hover,\n",
       ".sk-estimator-doc-link:hover {\n",
       "  /* unfitted */\n",
       "  background-color: var(--sklearn-color-unfitted-level-3);\n",
       "  color: var(--sklearn-color-background);\n",
       "  text-decoration: none;\n",
       "}\n",
       "\n",
       "div.sk-estimator.fitted:hover .sk-estimator-doc-link.fitted:hover,\n",
       ".sk-estimator-doc-link.fitted:hover,\n",
       "div.sk-label-container:hover .sk-estimator-doc-link.fitted:hover,\n",
       ".sk-estimator-doc-link.fitted:hover {\n",
       "  /* fitted */\n",
       "  background-color: var(--sklearn-color-fitted-level-3);\n",
       "  color: var(--sklearn-color-background);\n",
       "  text-decoration: none;\n",
       "}\n",
       "\n",
       "/* Span, style for the box shown on hovering the info icon */\n",
       ".sk-estimator-doc-link span {\n",
       "  display: none;\n",
       "  z-index: 9999;\n",
       "  position: relative;\n",
       "  font-weight: normal;\n",
       "  right: .2ex;\n",
       "  padding: .5ex;\n",
       "  margin: .5ex;\n",
       "  width: min-content;\n",
       "  min-width: 20ex;\n",
       "  max-width: 50ex;\n",
       "  color: var(--sklearn-color-text);\n",
       "  box-shadow: 2pt 2pt 4pt #999;\n",
       "  /* unfitted */\n",
       "  background: var(--sklearn-color-unfitted-level-0);\n",
       "  border: .5pt solid var(--sklearn-color-unfitted-level-3);\n",
       "}\n",
       "\n",
       ".sk-estimator-doc-link.fitted span {\n",
       "  /* fitted */\n",
       "  background: var(--sklearn-color-fitted-level-0);\n",
       "  border: var(--sklearn-color-fitted-level-3);\n",
       "}\n",
       "\n",
       ".sk-estimator-doc-link:hover span {\n",
       "  display: block;\n",
       "}\n",
       "\n",
       "/* \"?\"-specific style due to the `<a>` HTML tag */\n",
       "\n",
       "#sk-container-id-1 a.estimator_doc_link {\n",
       "  float: right;\n",
       "  font-size: 1rem;\n",
       "  line-height: 1em;\n",
       "  font-family: monospace;\n",
       "  background-color: var(--sklearn-color-background);\n",
       "  border-radius: 1rem;\n",
       "  height: 1rem;\n",
       "  width: 1rem;\n",
       "  text-decoration: none;\n",
       "  /* unfitted */\n",
       "  color: var(--sklearn-color-unfitted-level-1);\n",
       "  border: var(--sklearn-color-unfitted-level-1) 1pt solid;\n",
       "}\n",
       "\n",
       "#sk-container-id-1 a.estimator_doc_link.fitted {\n",
       "  /* fitted */\n",
       "  border: var(--sklearn-color-fitted-level-1) 1pt solid;\n",
       "  color: var(--sklearn-color-fitted-level-1);\n",
       "}\n",
       "\n",
       "/* On hover */\n",
       "#sk-container-id-1 a.estimator_doc_link:hover {\n",
       "  /* unfitted */\n",
       "  background-color: var(--sklearn-color-unfitted-level-3);\n",
       "  color: var(--sklearn-color-background);\n",
       "  text-decoration: none;\n",
       "}\n",
       "\n",
       "#sk-container-id-1 a.estimator_doc_link.fitted:hover {\n",
       "  /* fitted */\n",
       "  background-color: var(--sklearn-color-fitted-level-3);\n",
       "}\n",
       "\n",
       ".estimator-table summary {\n",
       "    padding: .5rem;\n",
       "    font-family: monospace;\n",
       "    cursor: pointer;\n",
       "}\n",
       "\n",
       ".estimator-table details[open] {\n",
       "    padding-left: 0.1rem;\n",
       "    padding-right: 0.1rem;\n",
       "    padding-bottom: 0.3rem;\n",
       "}\n",
       "\n",
       ".estimator-table .parameters-table {\n",
       "    margin-left: auto !important;\n",
       "    margin-right: auto !important;\n",
       "}\n",
       "\n",
       ".estimator-table .parameters-table tr:nth-child(odd) {\n",
       "    background-color: #fff;\n",
       "}\n",
       "\n",
       ".estimator-table .parameters-table tr:nth-child(even) {\n",
       "    background-color: #f6f6f6;\n",
       "}\n",
       "\n",
       ".estimator-table .parameters-table tr:hover {\n",
       "    background-color: #e0e0e0;\n",
       "}\n",
       "\n",
       ".estimator-table table td {\n",
       "    border: 1px solid rgba(106, 105, 104, 0.232);\n",
       "}\n",
       "\n",
       ".user-set td {\n",
       "    color:rgb(255, 94, 0);\n",
       "    text-align: left;\n",
       "}\n",
       "\n",
       ".user-set td.value pre {\n",
       "    color:rgb(255, 94, 0) !important;\n",
       "    background-color: transparent !important;\n",
       "}\n",
       "\n",
       ".default td {\n",
       "    color: black;\n",
       "    text-align: left;\n",
       "}\n",
       "\n",
       ".user-set td i,\n",
       ".default td i {\n",
       "    color: black;\n",
       "}\n",
       "\n",
       ".copy-paste-icon {\n",
       "    background-image: url(data:image/svg+xml;base64,PHN2ZyB4bWxucz0iaHR0cDovL3d3dy53My5vcmcvMjAwMC9zdmciIHZpZXdCb3g9IjAgMCA0NDggNTEyIj48IS0tIUZvbnQgQXdlc29tZSBGcmVlIDYuNy4yIGJ5IEBmb250YXdlc29tZSAtIGh0dHBzOi8vZm9udGF3ZXNvbWUuY29tIExpY2Vuc2UgLSBodHRwczovL2ZvbnRhd2Vzb21lLmNvbS9saWNlbnNlL2ZyZWUgQ29weXJpZ2h0IDIwMjUgRm9udGljb25zLCBJbmMuLS0+PHBhdGggZD0iTTIwOCAwTDMzMi4xIDBjMTIuNyAwIDI0LjkgNS4xIDMzLjkgMTQuMWw2Ny45IDY3LjljOSA5IDE0LjEgMjEuMiAxNC4xIDMzLjlMNDQ4IDMzNmMwIDI2LjUtMjEuNSA0OC00OCA0OGwtMTkyIDBjLTI2LjUgMC00OC0yMS41LTQ4LTQ4bDAtMjg4YzAtMjYuNSAyMS41LTQ4IDQ4LTQ4ek00OCAxMjhsODAgMCAwIDY0LTY0IDAgMCAyNTYgMTkyIDAgMC0zMiA2NCAwIDAgNDhjMCAyNi41LTIxLjUgNDgtNDggNDhMNDggNTEyYy0yNi41IDAtNDgtMjEuNS00OC00OEwwIDE3NmMwLTI2LjUgMjEuNS00OCA0OC00OHoiLz48L3N2Zz4=);\n",
       "    background-repeat: no-repeat;\n",
       "    background-size: 14px 14px;\n",
       "    background-position: 0;\n",
       "    display: inline-block;\n",
       "    width: 14px;\n",
       "    height: 14px;\n",
       "    cursor: pointer;\n",
       "}\n",
       "</style><body><div id=\"sk-container-id-1\" class=\"sk-top-container\"><div class=\"sk-text-repr-fallback\"><pre>SGDClassifier(random_state=42)</pre><b>In a Jupyter environment, please rerun this cell to show the HTML representation or trust the notebook. <br />On GitHub, the HTML representation is unable to render, please try loading this page with nbviewer.org.</b></div><div class=\"sk-container\" hidden><div class=\"sk-item\"><div class=\"sk-estimator fitted sk-toggleable\"><input class=\"sk-toggleable__control sk-hidden--visually\" id=\"sk-estimator-id-1\" type=\"checkbox\" checked><label for=\"sk-estimator-id-1\" class=\"sk-toggleable__label fitted sk-toggleable__label-arrow\"><div><div>SGDClassifier</div></div><div><a class=\"sk-estimator-doc-link fitted\" rel=\"noreferrer\" target=\"_blank\" href=\"https://scikit-learn.org/1.7/modules/generated/sklearn.linear_model.SGDClassifier.html\">?<span>Documentation for SGDClassifier</span></a><span class=\"sk-estimator-doc-link fitted\">i<span>Fitted</span></span></div></label><div class=\"sk-toggleable__content fitted\" data-param-prefix=\"\">\n",
       "        <div class=\"estimator-table\">\n",
       "            <details>\n",
       "                <summary>Parameters</summary>\n",
       "                <table class=\"parameters-table\">\n",
       "                  <tbody>\n",
       "                    \n",
       "        <tr class=\"default\">\n",
       "            <td><i class=\"copy-paste-icon\"\n",
       "                 onclick=\"copyToClipboard('loss',\n",
       "                          this.parentElement.nextElementSibling)\"\n",
       "            ></i></td>\n",
       "            <td class=\"param\">loss&nbsp;</td>\n",
       "            <td class=\"value\">&#x27;hinge&#x27;</td>\n",
       "        </tr>\n",
       "    \n",
       "\n",
       "        <tr class=\"default\">\n",
       "            <td><i class=\"copy-paste-icon\"\n",
       "                 onclick=\"copyToClipboard('penalty',\n",
       "                          this.parentElement.nextElementSibling)\"\n",
       "            ></i></td>\n",
       "            <td class=\"param\">penalty&nbsp;</td>\n",
       "            <td class=\"value\">&#x27;l2&#x27;</td>\n",
       "        </tr>\n",
       "    \n",
       "\n",
       "        <tr class=\"default\">\n",
       "            <td><i class=\"copy-paste-icon\"\n",
       "                 onclick=\"copyToClipboard('alpha',\n",
       "                          this.parentElement.nextElementSibling)\"\n",
       "            ></i></td>\n",
       "            <td class=\"param\">alpha&nbsp;</td>\n",
       "            <td class=\"value\">0.0001</td>\n",
       "        </tr>\n",
       "    \n",
       "\n",
       "        <tr class=\"default\">\n",
       "            <td><i class=\"copy-paste-icon\"\n",
       "                 onclick=\"copyToClipboard('l1_ratio',\n",
       "                          this.parentElement.nextElementSibling)\"\n",
       "            ></i></td>\n",
       "            <td class=\"param\">l1_ratio&nbsp;</td>\n",
       "            <td class=\"value\">0.15</td>\n",
       "        </tr>\n",
       "    \n",
       "\n",
       "        <tr class=\"default\">\n",
       "            <td><i class=\"copy-paste-icon\"\n",
       "                 onclick=\"copyToClipboard('fit_intercept',\n",
       "                          this.parentElement.nextElementSibling)\"\n",
       "            ></i></td>\n",
       "            <td class=\"param\">fit_intercept&nbsp;</td>\n",
       "            <td class=\"value\">True</td>\n",
       "        </tr>\n",
       "    \n",
       "\n",
       "        <tr class=\"default\">\n",
       "            <td><i class=\"copy-paste-icon\"\n",
       "                 onclick=\"copyToClipboard('max_iter',\n",
       "                          this.parentElement.nextElementSibling)\"\n",
       "            ></i></td>\n",
       "            <td class=\"param\">max_iter&nbsp;</td>\n",
       "            <td class=\"value\">1000</td>\n",
       "        </tr>\n",
       "    \n",
       "\n",
       "        <tr class=\"default\">\n",
       "            <td><i class=\"copy-paste-icon\"\n",
       "                 onclick=\"copyToClipboard('tol',\n",
       "                          this.parentElement.nextElementSibling)\"\n",
       "            ></i></td>\n",
       "            <td class=\"param\">tol&nbsp;</td>\n",
       "            <td class=\"value\">0.001</td>\n",
       "        </tr>\n",
       "    \n",
       "\n",
       "        <tr class=\"default\">\n",
       "            <td><i class=\"copy-paste-icon\"\n",
       "                 onclick=\"copyToClipboard('shuffle',\n",
       "                          this.parentElement.nextElementSibling)\"\n",
       "            ></i></td>\n",
       "            <td class=\"param\">shuffle&nbsp;</td>\n",
       "            <td class=\"value\">True</td>\n",
       "        </tr>\n",
       "    \n",
       "\n",
       "        <tr class=\"default\">\n",
       "            <td><i class=\"copy-paste-icon\"\n",
       "                 onclick=\"copyToClipboard('verbose',\n",
       "                          this.parentElement.nextElementSibling)\"\n",
       "            ></i></td>\n",
       "            <td class=\"param\">verbose&nbsp;</td>\n",
       "            <td class=\"value\">0</td>\n",
       "        </tr>\n",
       "    \n",
       "\n",
       "        <tr class=\"default\">\n",
       "            <td><i class=\"copy-paste-icon\"\n",
       "                 onclick=\"copyToClipboard('epsilon',\n",
       "                          this.parentElement.nextElementSibling)\"\n",
       "            ></i></td>\n",
       "            <td class=\"param\">epsilon&nbsp;</td>\n",
       "            <td class=\"value\">0.1</td>\n",
       "        </tr>\n",
       "    \n",
       "\n",
       "        <tr class=\"default\">\n",
       "            <td><i class=\"copy-paste-icon\"\n",
       "                 onclick=\"copyToClipboard('n_jobs',\n",
       "                          this.parentElement.nextElementSibling)\"\n",
       "            ></i></td>\n",
       "            <td class=\"param\">n_jobs&nbsp;</td>\n",
       "            <td class=\"value\">None</td>\n",
       "        </tr>\n",
       "    \n",
       "\n",
       "        <tr class=\"user-set\">\n",
       "            <td><i class=\"copy-paste-icon\"\n",
       "                 onclick=\"copyToClipboard('random_state',\n",
       "                          this.parentElement.nextElementSibling)\"\n",
       "            ></i></td>\n",
       "            <td class=\"param\">random_state&nbsp;</td>\n",
       "            <td class=\"value\">42</td>\n",
       "        </tr>\n",
       "    \n",
       "\n",
       "        <tr class=\"default\">\n",
       "            <td><i class=\"copy-paste-icon\"\n",
       "                 onclick=\"copyToClipboard('learning_rate',\n",
       "                          this.parentElement.nextElementSibling)\"\n",
       "            ></i></td>\n",
       "            <td class=\"param\">learning_rate&nbsp;</td>\n",
       "            <td class=\"value\">&#x27;optimal&#x27;</td>\n",
       "        </tr>\n",
       "    \n",
       "\n",
       "        <tr class=\"default\">\n",
       "            <td><i class=\"copy-paste-icon\"\n",
       "                 onclick=\"copyToClipboard('eta0',\n",
       "                          this.parentElement.nextElementSibling)\"\n",
       "            ></i></td>\n",
       "            <td class=\"param\">eta0&nbsp;</td>\n",
       "            <td class=\"value\">0.0</td>\n",
       "        </tr>\n",
       "    \n",
       "\n",
       "        <tr class=\"default\">\n",
       "            <td><i class=\"copy-paste-icon\"\n",
       "                 onclick=\"copyToClipboard('power_t',\n",
       "                          this.parentElement.nextElementSibling)\"\n",
       "            ></i></td>\n",
       "            <td class=\"param\">power_t&nbsp;</td>\n",
       "            <td class=\"value\">0.5</td>\n",
       "        </tr>\n",
       "    \n",
       "\n",
       "        <tr class=\"default\">\n",
       "            <td><i class=\"copy-paste-icon\"\n",
       "                 onclick=\"copyToClipboard('early_stopping',\n",
       "                          this.parentElement.nextElementSibling)\"\n",
       "            ></i></td>\n",
       "            <td class=\"param\">early_stopping&nbsp;</td>\n",
       "            <td class=\"value\">False</td>\n",
       "        </tr>\n",
       "    \n",
       "\n",
       "        <tr class=\"default\">\n",
       "            <td><i class=\"copy-paste-icon\"\n",
       "                 onclick=\"copyToClipboard('validation_fraction',\n",
       "                          this.parentElement.nextElementSibling)\"\n",
       "            ></i></td>\n",
       "            <td class=\"param\">validation_fraction&nbsp;</td>\n",
       "            <td class=\"value\">0.1</td>\n",
       "        </tr>\n",
       "    \n",
       "\n",
       "        <tr class=\"default\">\n",
       "            <td><i class=\"copy-paste-icon\"\n",
       "                 onclick=\"copyToClipboard('n_iter_no_change',\n",
       "                          this.parentElement.nextElementSibling)\"\n",
       "            ></i></td>\n",
       "            <td class=\"param\">n_iter_no_change&nbsp;</td>\n",
       "            <td class=\"value\">5</td>\n",
       "        </tr>\n",
       "    \n",
       "\n",
       "        <tr class=\"default\">\n",
       "            <td><i class=\"copy-paste-icon\"\n",
       "                 onclick=\"copyToClipboard('class_weight',\n",
       "                          this.parentElement.nextElementSibling)\"\n",
       "            ></i></td>\n",
       "            <td class=\"param\">class_weight&nbsp;</td>\n",
       "            <td class=\"value\">None</td>\n",
       "        </tr>\n",
       "    \n",
       "\n",
       "        <tr class=\"default\">\n",
       "            <td><i class=\"copy-paste-icon\"\n",
       "                 onclick=\"copyToClipboard('warm_start',\n",
       "                          this.parentElement.nextElementSibling)\"\n",
       "            ></i></td>\n",
       "            <td class=\"param\">warm_start&nbsp;</td>\n",
       "            <td class=\"value\">False</td>\n",
       "        </tr>\n",
       "    \n",
       "\n",
       "        <tr class=\"default\">\n",
       "            <td><i class=\"copy-paste-icon\"\n",
       "                 onclick=\"copyToClipboard('average',\n",
       "                          this.parentElement.nextElementSibling)\"\n",
       "            ></i></td>\n",
       "            <td class=\"param\">average&nbsp;</td>\n",
       "            <td class=\"value\">False</td>\n",
       "        </tr>\n",
       "    \n",
       "                  </tbody>\n",
       "                </table>\n",
       "            </details>\n",
       "        </div>\n",
       "    </div></div></div></div></div><script>function copyToClipboard(text, element) {\n",
       "    // Get the parameter prefix from the closest toggleable content\n",
       "    const toggleableContent = element.closest('.sk-toggleable__content');\n",
       "    const paramPrefix = toggleableContent ? toggleableContent.dataset.paramPrefix : '';\n",
       "    const fullParamName = paramPrefix ? `${paramPrefix}${text}` : text;\n",
       "\n",
       "    const originalStyle = element.style;\n",
       "    const computedStyle = window.getComputedStyle(element);\n",
       "    const originalWidth = computedStyle.width;\n",
       "    const originalHTML = element.innerHTML.replace('Copied!', '');\n",
       "\n",
       "    navigator.clipboard.writeText(fullParamName)\n",
       "        .then(() => {\n",
       "            element.style.width = originalWidth;\n",
       "            element.style.color = 'green';\n",
       "            element.innerHTML = \"Copied!\";\n",
       "\n",
       "            setTimeout(() => {\n",
       "                element.innerHTML = originalHTML;\n",
       "                element.style = originalStyle;\n",
       "            }, 2000);\n",
       "        })\n",
       "        .catch(err => {\n",
       "            console.error('Failed to copy:', err);\n",
       "            element.style.color = 'red';\n",
       "            element.innerHTML = \"Failed!\";\n",
       "            setTimeout(() => {\n",
       "                element.innerHTML = originalHTML;\n",
       "                element.style = originalStyle;\n",
       "            }, 2000);\n",
       "        });\n",
       "    return false;\n",
       "}\n",
       "\n",
       "document.querySelectorAll('.fa-regular.fa-copy').forEach(function(element) {\n",
       "    const toggleableContent = element.closest('.sk-toggleable__content');\n",
       "    const paramPrefix = toggleableContent ? toggleableContent.dataset.paramPrefix : '';\n",
       "    const paramName = element.parentElement.nextElementSibling.textContent.trim();\n",
       "    const fullParamName = paramPrefix ? `${paramPrefix}${paramName}` : paramName;\n",
       "\n",
       "    element.setAttribute('title', fullParamName);\n",
       "});\n",
       "</script></body>"
      ],
      "text/plain": [
       "SGDClassifier(random_state=42)"
      ]
     },
     "execution_count": 70,
     "metadata": {},
     "output_type": "execute_result"
    }
   ],
   "source": [
    "## Modelo SGD= Stochastic Gradient Descent (próximamente)\n",
    "from sklearn.linear_model import SGDClassifier\n",
    "\n",
    "sgd = SGDClassifier(random_state=42)\n",
    "sgd.fit(x_train, y_train)"
   ]
  },
  {
   "cell_type": "code",
   "execution_count": null,
   "id": "bf5088ac-ad82-4826-a146-1019f6d44069",
   "metadata": {},
   "outputs": [
    {
     "name": "stderr",
     "output_type": "stream",
     "text": [
      "C:\\Users\\user\\AppData\\Local\\Packages\\PythonSoftwareFoundation.Python.3.11_qbz5n2kfra8p0\\LocalCache\\local-packages\\Python311\\site-packages\\sklearn\\utils\\validation.py:2749: UserWarning: X does not have valid feature names, but SGDClassifier was fitted with feature names\n",
      "  warnings.warn(\n"
     ]
    },
    {
     "data": {
      "text/plain": [
       "array([4])"
      ]
     },
     "execution_count": 75,
     "metadata": {},
     "output_type": "execute_result"
    }
   ],
   "source": [
    "#Predecir la medicina a tomar de un humano que ya sepas el resultado \n",
    "sgd.predict([[47, 1, 1, 5, 8]])"
   ]
  },
  {
   "cell_type": "markdown",
   "id": "aa86fe0e-0bfa-4e4c-ba92-b74675da354f",
   "metadata": {},
   "source": [
    "👀: para saber que le esta yendo bien al modelo tienen que coincidir los resultados"
   ]
  },
  {
   "cell_type": "markdown",
   "id": "66e61519-7db0-4674-9d42-09a56e0aa4ad",
   "metadata": {},
   "source": [
    "***"
   ]
  },
  {
   "cell_type": "markdown",
   "id": "0a3c3270",
   "metadata": {},
   "source": [
    "## <span style=\"color:green\">6. Medidas de desempeño</span>\n"
   ]
  },
  {
   "cell_type": "markdown",
   "id": "f613829e-7173-4f3d-9134-419b8217e868",
   "metadata": {},
   "source": [
    "### <span style=\"color:blue\">6.1 Exactitud</span>"
   ]
  },
  {
   "cell_type": "code",
   "execution_count": 77,
   "id": "8429ae01",
   "metadata": {},
   "outputs": [
    {
     "data": {
      "text/plain": [
       "array([0.44444444, 0.60377358, 0.58490566])"
      ]
     },
     "execution_count": 77,
     "metadata": {},
     "output_type": "execute_result"
    }
   ],
   "source": [
    "# Realiza una Cross validation/K-Folds\n",
    "from sklearn.model_selection import cross_val_score\n",
    "\n",
    "cross_val_score(sgd, x_train, y_train, cv=3, scoring=\"accuracy\")"
   ]
  },
  {
   "cell_type": "markdown",
   "id": "9c5b0b55-8ab3-4cc5-aed1-95f9e44727c1",
   "metadata": {},
   "source": [
    " \n",
    "**cv:** número de dobleses \n",
    "\n",
    "**scoring:** accuracy (será nuestra medida de desempeño)  "
   ]
  },
  {
   "cell_type": "code",
   "execution_count": 91,
   "id": "8b84c96e",
   "metadata": {},
   "outputs": [
    {
     "name": "stdout",
     "output_type": "stream",
     "text": [
      "[False False False False False False False False False False False False\n",
      " False False False False False False False False False False False False\n",
      " False False False False False False False False False False False False\n",
      " False False False False]\n"
     ]
    }
   ],
   "source": [
    "# Modelo que nunca es Y\n",
    "def predict_nunca_y(X):\n",
    "    return np.zeros(len(X), dtype = bool)\n",
    "\n",
    "fit_nunca_y(x_train, y_train)\n",
    "print(predict_nunca_y(x_test))"
   ]
  },
  {
   "cell_type": "markdown",
   "id": "0cdfab5e-4809-46f5-91ef-5c6eb7338842",
   "metadata": {},
   "source": [
    "***"
   ]
  },
  {
   "cell_type": "markdown",
   "id": "199752d5",
   "metadata": {},
   "source": [
    "### <span style=\"color:blue\">6.2 Matriz de Confusión</span>"
   ]
  },
  {
   "cell_type": "code",
   "execution_count": null,
   "id": "39275fad",
   "metadata": {},
   "outputs": [
    {
     "data": {
      "text/plain": [
       "array([[61, 15,  0,  0,  0],\n",
       "       [ 5, 10,  0,  0,  2],\n",
       "       [ 3,  5,  1,  0,  4],\n",
       "       [ 4,  5,  0,  0,  2],\n",
       "       [16, 11,  1,  0, 15]])"
      ]
     },
     "execution_count": 86,
     "metadata": {},
     "output_type": "execute_result"
    }
   ],
   "source": [
    "# Matriz de confusión\n",
    "#Importar cross_val_predict \n",
    "from sklearn.model_selection import cross_val_predict\n",
    "y_train_pred = cross_val_predict(sgd, x_train, y_train, cv=3)\n",
    "#Importar confusion_matrix\n",
    "from sklearn.metrics import confusion_matrix\n",
    "confusion_matrix(y_train, y_train_pred)"
   ]
  },
  {
   "attachments": {
    "3f90b91e-ff94-40c8-b015-0fd5b2eb1586.png": {
     "image/png": "[encoded data removed]"
    }
   },
   "cell_type": "markdown",
   "id": "f54a780c-183a-4fa2-84c9-fd6fb8d65503",
   "metadata": {},
   "source": [
    "![matriz.png](attachment:3f90b91e-ff94-40c8-b015-0fd5b2eb1586.png)"
   ]
  },
  {
   "cell_type": "markdown",
   "id": "f0f6a0ec-d9f6-47cb-b748-3c519715dd14",
   "metadata": {},
   "source": [
    "**Verdaderos Negativos**: esquina superior izquierda \n",
    "\n",
    "**Falsos positivos**: esquina superior derecha\n",
    "\n",
    "**Falsos Negativos**: esquina inferior izquierda\n",
    "\n",
    "**Verdaderos Positivos**: esquina inferior derecha "
   ]
  },
  {
   "cell_type": "markdown",
   "id": "38fd4cd1-2bcb-4a78-b36d-e1111764aa41",
   "metadata": {},
   "source": [
    "***"
   ]
  },
  {
   "cell_type": "markdown",
   "id": "cfe9e7be",
   "metadata": {},
   "source": [
    "### <span style=\"color:blue\">6.3 Precision y Recall</span>"
   ]
  },
  {
   "cell_type": "code",
   "execution_count": 94,
   "id": "edd6f25a",
   "metadata": {
    "scrolled": true
   },
   "outputs": [
    {
     "name": "stderr",
     "output_type": "stream",
     "text": [
      "C:\\Users\\user\\AppData\\Local\\Packages\\PythonSoftwareFoundation.Python.3.11_qbz5n2kfra8p0\\LocalCache\\local-packages\\Python311\\site-packages\\sklearn\\metrics\\_classification.py:1706: UndefinedMetricWarning: Precision is ill-defined and being set to 0.0 in labels with no predicted samples. Use `zero_division` parameter to control this behavior.\n",
      "  _warn_prf(average, modifier, f\"{metric.capitalize()} is\", result.shape[0])\n"
     ]
    },
    {
     "data": {
      "text/plain": [
       "(0.41099169516365414, 0.3633254318580836)"
      ]
     },
     "execution_count": 94,
     "metadata": {},
     "output_type": "execute_result"
    }
   ],
   "source": [
    "#Importar precision_score y recall_score \n",
    "from sklearn.metrics import precision_score, recall_score\n",
    "\n",
    "p = precision_score(y_train, y_train_pred, average = 'macro')\n",
    "\n",
    "r = recall_score(y_train, y_train_pred, average = 'macro')\n",
    "\n",
    "p,r"
   ]
  },
  {
   "attachments": {
    "7eddb0e3-9b2f-40e6-8859-a4ba9718b0b8.png": {
     "image/png": "[encoded data removed]"
    }
   },
   "cell_type": "markdown",
   "id": "45751f1a-3ba0-4263-bc49-7f2674f8b981",
   "metadata": {},
   "source": [
    "![image.png](attachment:7eddb0e3-9b2f-40e6-8859-a4ba9718b0b8.png)"
   ]
  },
  {
   "attachments": {
    "c3eee779-8ac5-44f2-ac4c-b18a71b57466.png": {
     "image/png": "[encoded data removed]"
    }
   },
   "cell_type": "markdown",
   "id": "5b055c17-6489-45da-8e6b-58426deddd31",
   "metadata": {},
   "source": [
    "![image.png](attachment:c3eee779-8ac5-44f2-ac4c-b18a71b57466.png)"
   ]
  },
  {
   "cell_type": "code",
   "execution_count": 95,
   "id": "cf491a28",
   "metadata": {},
   "outputs": [
    {
     "data": {
      "text/plain": [
       "array([[75,  0,  0,  1,  0],\n",
       "       [ 0, 17,  0,  0,  0],\n",
       "       [ 0,  1, 12,  0,  0],\n",
       "       [ 0,  0,  0,  7,  4],\n",
       "       [ 0,  0,  0,  0, 43]])"
      ]
     },
     "execution_count": 95,
     "metadata": {},
     "output_type": "execute_result"
    }
   ],
   "source": [
    "#Cambiar de clasificador\n",
    "#Importar RandomForestClassifier\n",
    "from sklearn.ensemble import RandomForestClassifier\n",
    "\n",
    "rfc = RandomForestClassifier(random_state = 42)\n",
    "rfc.fit(x_train, y_train)\n",
    "\n",
    "y_train_pred = cross_val_predict(rfc, x_train, y_train, cv=3)\n",
    "#Hacer la matriz de confusión otra vez\n",
    "confusion_matrix(y_train,y_train_pred)"
   ]
  },
  {
   "cell_type": "code",
   "execution_count": 97,
   "id": "432e451f",
   "metadata": {},
   "outputs": [
    {
     "data": {
      "text/plain": [
       "(0.9468676122931443, 0.9092565329407435)"
      ]
     },
     "execution_count": 97,
     "metadata": {},
     "output_type": "execute_result"
    }
   ],
   "source": [
    "#Calcular la precisión y recall con el nuevo clasificador \n",
    "p = precision_score(y_train, y_train_pred, average = 'macro')\n",
    "r = recall_score(y_train, y_train_pred, average = 'macro')\n",
    "\n",
    "p,r"
   ]
  },
  {
   "cell_type": "code",
   "execution_count": 98,
   "id": "c4769c66",
   "metadata": {},
   "outputs": [
    {
     "data": {
      "text/plain": [
       "0.9234407431381987"
      ]
     },
     "execution_count": 98,
     "metadata": {},
     "output_type": "execute_result"
    }
   ],
   "source": [
    "#Calcular F1\n",
    "from sklearn.metrics import f1_score\n",
    "\n",
    "F1 = f1_score(y_train, y_train_pred, average = 'macro')\n",
    "F1"
   ]
  },
  {
   "attachments": {
    "5efcdf08-55c6-4026-990c-e851bc3241af.png": {
     "image/png": "[encoded data removed]"
    }
   },
   "cell_type": "markdown",
   "id": "09ac3e77-751f-4045-a07b-50c6869d2857",
   "metadata": {},
   "source": [
    "![image.png](attachment:5efcdf08-55c6-4026-990c-e851bc3241af.png)"
   ]
  },
  {
   "cell_type": "markdown",
   "id": "53fe39ca-eb18-40cb-ab4f-d2ba63dfe077",
   "metadata": {},
   "source": [
    "***"
   ]
  },
  {
   "cell_type": "markdown",
   "id": "8274b93b",
   "metadata": {},
   "source": [
    "### <span style=\"color:blue\">6.4 Umbral Precision y Recall</span>"
   ]
  },
  {
   "cell_type": "code",
   "execution_count": 110,
   "id": "eb8d1359",
   "metadata": {},
   "outputs": [
    {
     "name": "stderr",
     "output_type": "stream",
     "text": [
      "C:\\Users\\user\\AppData\\Local\\Packages\\PythonSoftwareFoundation.Python.3.11_qbz5n2kfra8p0\\LocalCache\\local-packages\\Python311\\site-packages\\sklearn\\utils\\validation.py:2749: UserWarning: X does not have valid feature names, but SGDClassifier was fitted with feature names\n",
      "  warnings.warn(\n"
     ]
    }
   ],
   "source": [
    "#Puntación de un paciente aleatorio\n",
    "y_score = sgd.decision_function([[47, 1, 1, 0, 8]])\n",
    "y_score\n",
    "\n",
    "threshold = 0\n",
    "\n",
    "y_some_pred = (y_score > threshold)"
   ]
  },
  {
   "cell_type": "code",
   "execution_count": 120,
   "id": "8be91577",
   "metadata": {},
   "outputs": [
    {
     "data": {
      "image/png": "[encoded data removed]",
      "text/plain": [
       "<Figure size 640x480 with 1 Axes>"
      ]
     },
     "metadata": {},
     "output_type": "display_data"
    },
    {
     "data": {
      "image/png": "[encoded data removed]",
      "text/plain": [
       "<Figure size 640x480 with 1 Axes>"
      ]
     },
     "metadata": {},
     "output_type": "display_data"
    }
   ],
   "source": [
    "#Graficar la precisión y recall \n",
    "from sklearn.metrics import precision_recall_curve\n",
    "\n",
    "clase_objetivo = 0\n",
    "\n",
    "y_scores = cross_val_predict(sgd, x_train, y_train, cv=3, method=\"decision_function\")\n",
    "y_train_bin = (y_train == clase_objetivo)\n",
    "\n",
    "precisions, recalls, umbrales = precision_recall_curve(y_train_bin, y_scores[:, clase_objetivo])\n",
    "\n",
    "plt.plot(umbrales, precisions[:-1], \"b--\", label=\"Precisión\")\n",
    "plt.plot(umbrales, recalls[:-1], \"g-\", label=\"Recall\")\n",
    "plt.xlabel(\"Umbral\")\n",
    "plt.title(f\"Precisión y Recall\")\n",
    "plt.show()\n",
    "#Puedes visualizar los y_scores pero no te dice nada, la gráfica si lo hará \n",
    "#Graficar la precisión y recall, ahora si\n",
    "plt.plot(recalls[:-1], precisions[:-1], \"g-\", label=\"Precisión vs Recall\")\n",
    "plt.xlabel(\"Recall\")\n",
    "plt.ylabel(\"Precisión\")\n",
    "plt.title(f\"Precisión Vs Recall\")\n",
    "plt.show()"
   ]
  },
  {
   "cell_type": "markdown",
   "id": "92e7801d-2378-4178-b631-36ef5720bc65",
   "metadata": {},
   "source": [
    "El umbral te permite conocer qué medida priorizar acorde a tus objetivos. Ya sea que estemos hablando de videos de youtube para niños 🍭 o un sistema de seguridad 🔒."
   ]
  },
  {
   "cell_type": "code",
   "execution_count": 121,
   "id": "b62f43f9",
   "metadata": {},
   "outputs": [
    {
     "data": {
      "text/plain": [
       "np.float64(37261.38594582169)"
      ]
     },
     "execution_count": 121,
     "metadata": {},
     "output_type": "execute_result"
    }
   ],
   "source": [
    "#Supon que ya lo pensaste y querías un umbral  90 \n",
    "umbral_90 = umbrales[np.argmax(precisions >= 0.90)]\n",
    "umbral_90"
   ]
  },
  {
   "cell_type": "code",
   "execution_count": 124,
   "id": "5806f78b",
   "metadata": {},
   "outputs": [
    {
     "data": {
      "text/plain": [
       "(0.9019607843137255, 0.6052631578947368)"
      ]
     },
     "execution_count": 124,
     "metadata": {},
     "output_type": "execute_result"
    }
   ],
   "source": [
    "#Arroja la precisión y recall para un umbral de 90\n",
    "umbral_90 = umbrales[np.argmax(precisions >= 0.90)]\n",
    "y_pred_90 = (y_scores[:, clase_objetivo] >= umbral_90)\n",
    "\n",
    "precision_90 = precision_score(y_train_bin, y_pred_90)\n",
    "recall_90 = recall_score(y_train_bin, y_pred_90)\n",
    "\n",
    "precision_90, recall_90"
   ]
  },
  {
   "cell_type": "markdown",
   "id": "890d33dd-25e6-4787-84bc-213b348648d5",
   "metadata": {},
   "source": [
    "***"
   ]
  },
  {
   "cell_type": "markdown",
   "id": "6a2caf78",
   "metadata": {},
   "source": [
    "### <span style=\"color:blue\">6.5 Curva ROC</span>\n"
   ]
  },
  {
   "cell_type": "markdown",
   "id": "c589757e-e8a3-45bc-b264-91a7844e0005",
   "metadata": {},
   "source": [
    "Grafica Recall contra el porcentaje de Falsos Positivos"
   ]
  },
  {
   "cell_type": "code",
   "execution_count": 125,
   "id": "174891b7",
   "metadata": {},
   "outputs": [],
   "source": [
    "#Importar roc_curve\n",
    "from sklearn.metrics import roc_curve"
   ]
  },
  {
   "cell_type": "code",
   "execution_count": 128,
   "id": "5336e616",
   "metadata": {},
   "outputs": [
    {
     "data": {
      "image/png": "[encoded data removed]",
      "text/plain": [
       "<Figure size 640x480 with 1 Axes>"
      ]
     },
     "metadata": {},
     "output_type": "display_data"
    }
   ],
   "source": [
    "#Graficar la curva ROC\n",
    "clase_objetivo = 1\n",
    "\n",
    "y_train_bin = (y_train == clase_objetivo)\n",
    "y_scores_bin = y_scores[:, clase_objetivo]\n",
    "\n",
    "fpr, tpr, umbrales = roc_curve(y_train_bin, y_scores_bin)\n",
    "\n",
    "plt.plot(fpr, tpr, label=\"Curva ROC\")\n",
    "plt.plot([0, 1], [0, 1], 'k--', label=\"Aleatorio\")\n",
    "plt.xlabel(\"Tasa de Falsos Positivos (FPR)\")\n",
    "plt.ylabel(\"Tasa de Verdaderos Positivos (TPR)\")\n",
    "plt.title(f\"Curva ROC - Clase {clase_objetivo}\")\n",
    "plt.grid(True)\n",
    "plt.show()\n",
    "#Poner una cuadrícula\n"
   ]
  },
  {
   "cell_type": "markdown",
   "id": "5e87c17d-a9da-425c-80d3-40d541f3af9c",
   "metadata": {},
   "source": [
    "Un modelo perfecto se asimila a una escuadra entre la curva ROC y la línea punteada porque existe una mayor área bajo la curva"
   ]
  },
  {
   "cell_type": "code",
   "execution_count": 135,
   "id": "cb11a9f2",
   "metadata": {},
   "outputs": [
    {
     "data": {
      "text/plain": [
       "0.7342657342657343"
      ]
     },
     "execution_count": 135,
     "metadata": {},
     "output_type": "execute_result"
    }
   ],
   "source": [
    "#Calcular el puntaje de la curva\n",
    "from sklearn.metrics import roc_auc_score\n",
    "\n",
    "clase_objetivo = 1\n",
    "y_train_bin = (y_train == clase_objetivo)\n",
    "y_scores_bin = y_scores[:, clase_objetivo]\n",
    "\n",
    "auc_bin = roc_auc_score(y_train_bin, y_scores_bin)\n",
    "auc_bin"
   ]
  },
  {
   "cell_type": "code",
   "execution_count": 137,
   "id": "bd8ce8ec",
   "metadata": {},
   "outputs": [
    {
     "data": {
      "text/plain": [
       "array([[0.01, 0.07, 0.  , 0.16, 0.76],\n",
       "       [0.01, 0.01, 0.01, 0.01, 0.96],\n",
       "       [0.03, 0.  , 0.01, 0.  , 0.96],\n",
       "       [0.97, 0.  , 0.  , 0.02, 0.01],\n",
       "       [1.  , 0.  , 0.  , 0.  , 0.  ],\n",
       "       [0.06, 0.03, 0.05, 0.38, 0.48],\n",
       "       [0.98, 0.  , 0.  , 0.02, 0.  ],\n",
       "       [0.98, 0.02, 0.  , 0.  , 0.  ],\n",
       "       [0.82, 0.  , 0.18, 0.  , 0.  ],\n",
       "       [0.01, 0.01, 0.03, 0.05, 0.9 ],\n",
       "       [0.02, 0.04, 0.01, 0.07, 0.86],\n",
       "       [0.96, 0.  , 0.  , 0.01, 0.03],\n",
       "       [0.  , 0.  , 0.01, 0.09, 0.9 ],\n",
       "       [0.84, 0.  , 0.16, 0.  , 0.  ],\n",
       "       [0.04, 0.02, 0.01, 0.  , 0.93],\n",
       "       [0.94, 0.  , 0.  , 0.01, 0.05],\n",
       "       [0.  , 0.75, 0.19, 0.03, 0.03],\n",
       "       [0.97, 0.03, 0.  , 0.  , 0.  ],\n",
       "       [0.95, 0.  , 0.  , 0.  , 0.05],\n",
       "       [1.  , 0.  , 0.  , 0.  , 0.  ],\n",
       "       [0.09, 0.69, 0.05, 0.09, 0.08],\n",
       "       [0.98, 0.  , 0.02, 0.  , 0.  ],\n",
       "       [0.02, 0.16, 0.75, 0.07, 0.  ],\n",
       "       [0.97, 0.  , 0.  , 0.03, 0.  ],\n",
       "       [0.01, 0.03, 0.  , 0.08, 0.88],\n",
       "       [0.95, 0.  , 0.04, 0.  , 0.01],\n",
       "       [0.87, 0.  , 0.  , 0.  , 0.13],\n",
       "       [0.96, 0.  , 0.04, 0.  , 0.  ],\n",
       "       [0.95, 0.  , 0.  , 0.  , 0.05],\n",
       "       [0.05, 0.37, 0.49, 0.  , 0.09],\n",
       "       [0.03, 0.  , 0.07, 0.02, 0.88],\n",
       "       [0.01, 0.02, 0.  , 0.04, 0.93],\n",
       "       [0.02, 0.03, 0.  , 0.03, 0.92],\n",
       "       [0.34, 0.18, 0.4 , 0.  , 0.08],\n",
       "       [0.06, 0.82, 0.1 , 0.  , 0.02],\n",
       "       [0.14, 0.  , 0.07, 0.07, 0.72],\n",
       "       [0.98, 0.02, 0.  , 0.  , 0.  ],\n",
       "       [0.08, 0.  , 0.05, 0.18, 0.69],\n",
       "       [0.01, 0.88, 0.1 , 0.  , 0.01],\n",
       "       [0.02, 0.  , 0.01, 0.05, 0.92],\n",
       "       [0.03, 0.06, 0.  , 0.64, 0.27],\n",
       "       [0.99, 0.01, 0.  , 0.  , 0.  ],\n",
       "       [0.07, 0.73, 0.1 , 0.08, 0.02],\n",
       "       [0.  , 0.7 , 0.1 , 0.17, 0.03],\n",
       "       [0.05, 0.7 , 0.08, 0.15, 0.02],\n",
       "       [0.02, 0.13, 0.83, 0.  , 0.02],\n",
       "       [0.04, 0.2 , 0.72, 0.  , 0.04],\n",
       "       [0.02, 0.82, 0.1 , 0.  , 0.06],\n",
       "       [0.86, 0.01, 0.13, 0.  , 0.  ],\n",
       "       [0.04, 0.8 , 0.09, 0.02, 0.05],\n",
       "       [0.94, 0.  , 0.  , 0.  , 0.06],\n",
       "       [0.97, 0.  , 0.  , 0.  , 0.03],\n",
       "       [0.04, 0.78, 0.03, 0.09, 0.06],\n",
       "       [0.91, 0.02, 0.04, 0.  , 0.03],\n",
       "       [0.97, 0.03, 0.  , 0.  , 0.  ],\n",
       "       [0.94, 0.05, 0.01, 0.  , 0.  ],\n",
       "       [0.02, 0.02, 0.  , 0.19, 0.77],\n",
       "       [0.84, 0.  , 0.  , 0.  , 0.16],\n",
       "       [0.04, 0.02, 0.01, 0.02, 0.91],\n",
       "       [0.99, 0.  , 0.  , 0.  , 0.01],\n",
       "       [0.96, 0.  , 0.01, 0.01, 0.02],\n",
       "       [0.03, 0.08, 0.01, 0.24, 0.64],\n",
       "       [0.03, 0.12, 0.76, 0.02, 0.07],\n",
       "       [0.06, 0.  , 0.04, 0.04, 0.86],\n",
       "       [0.94, 0.  , 0.  , 0.01, 0.05],\n",
       "       [0.05, 0.68, 0.12, 0.09, 0.06],\n",
       "       [0.07, 0.09, 0.  , 0.44, 0.4 ],\n",
       "       [0.94, 0.  , 0.02, 0.  , 0.04],\n",
       "       [0.  , 0.04, 0.  , 0.04, 0.92],\n",
       "       [0.  , 0.07, 0.  , 0.04, 0.89],\n",
       "       [0.97, 0.  , 0.01, 0.01, 0.01],\n",
       "       [0.94, 0.06, 0.  , 0.  , 0.  ],\n",
       "       [0.15, 0.04, 0.01, 0.04, 0.76],\n",
       "       [0.31, 0.  , 0.12, 0.11, 0.46],\n",
       "       [0.09, 0.11, 0.76, 0.  , 0.04],\n",
       "       [0.9 , 0.  , 0.  , 0.01, 0.09],\n",
       "       [0.04, 0.15, 0.69, 0.04, 0.08],\n",
       "       [0.04, 0.02, 0.01, 0.02, 0.91],\n",
       "       [0.98, 0.01, 0.01, 0.  , 0.  ],\n",
       "       [0.93, 0.  , 0.  , 0.  , 0.07],\n",
       "       [0.96, 0.  , 0.  , 0.  , 0.04],\n",
       "       [0.06, 0.05, 0.82, 0.02, 0.05],\n",
       "       [0.04, 0.07, 0.  , 0.62, 0.27],\n",
       "       [0.02, 0.95, 0.03, 0.  , 0.  ],\n",
       "       [0.99, 0.  , 0.01, 0.  , 0.  ],\n",
       "       [0.38, 0.05, 0.04, 0.41, 0.12],\n",
       "       [0.94, 0.06, 0.  , 0.  , 0.  ],\n",
       "       [0.07, 0.78, 0.09, 0.01, 0.05],\n",
       "       [0.12, 0.01, 0.04, 0.14, 0.69],\n",
       "       [0.03, 0.01, 0.01, 0.08, 0.87],\n",
       "       [0.96, 0.  , 0.01, 0.02, 0.01],\n",
       "       [0.07, 0.01, 0.21, 0.56, 0.15],\n",
       "       [0.36, 0.04, 0.08, 0.33, 0.19],\n",
       "       [0.9 , 0.  , 0.  , 0.  , 0.1 ],\n",
       "       [0.02, 0.01, 0.  , 0.07, 0.9 ],\n",
       "       [0.02, 0.7 , 0.23, 0.  , 0.05],\n",
       "       [0.04, 0.  , 0.01, 0.09, 0.86],\n",
       "       [0.  , 0.04, 0.  , 0.04, 0.92],\n",
       "       [0.99, 0.  , 0.01, 0.  , 0.  ],\n",
       "       [0.98, 0.  , 0.  , 0.01, 0.01],\n",
       "       [0.98, 0.01, 0.01, 0.  , 0.  ],\n",
       "       [0.95, 0.  , 0.  , 0.  , 0.05],\n",
       "       [0.97, 0.  , 0.  , 0.  , 0.03],\n",
       "       [0.93, 0.  , 0.  , 0.05, 0.02],\n",
       "       [0.05, 0.04, 0.9 , 0.01, 0.  ],\n",
       "       [0.12, 0.01, 0.04, 0.09, 0.74],\n",
       "       [0.05, 0.06, 0.02, 0.63, 0.24],\n",
       "       [0.  , 0.74, 0.12, 0.03, 0.11],\n",
       "       [0.72, 0.2 , 0.06, 0.  , 0.02],\n",
       "       [0.01, 0.85, 0.07, 0.01, 0.06],\n",
       "       [0.02, 0.76, 0.18, 0.01, 0.03],\n",
       "       [0.1 , 0.  , 0.13, 0.05, 0.72],\n",
       "       [0.95, 0.  , 0.  , 0.  , 0.05],\n",
       "       [0.8 , 0.  , 0.01, 0.01, 0.18],\n",
       "       [0.93, 0.  , 0.02, 0.01, 0.04],\n",
       "       [0.94, 0.05, 0.01, 0.  , 0.  ],\n",
       "       [0.04, 0.01, 0.  , 0.14, 0.81],\n",
       "       [0.97, 0.  , 0.  , 0.  , 0.03],\n",
       "       [0.1 , 0.62, 0.22, 0.02, 0.04],\n",
       "       [0.02, 0.05, 0.  , 0.12, 0.81],\n",
       "       [0.94, 0.  , 0.05, 0.  , 0.01],\n",
       "       [0.95, 0.05, 0.  , 0.  , 0.  ],\n",
       "       [0.14, 0.  , 0.09, 0.05, 0.72],\n",
       "       [0.87, 0.1 , 0.03, 0.  , 0.  ],\n",
       "       [0.04, 0.02, 0.  , 0.07, 0.87],\n",
       "       [0.06, 0.1 , 0.78, 0.01, 0.05],\n",
       "       [0.97, 0.  , 0.  , 0.03, 0.  ],\n",
       "       [0.94, 0.  , 0.06, 0.  , 0.  ],\n",
       "       [0.03, 0.09, 0.  , 0.67, 0.21],\n",
       "       [0.06, 0.  , 0.09, 0.03, 0.82],\n",
       "       [0.96, 0.  , 0.  , 0.  , 0.04],\n",
       "       [0.96, 0.04, 0.  , 0.  , 0.  ],\n",
       "       [0.98, 0.  , 0.  , 0.  , 0.02],\n",
       "       [0.93, 0.06, 0.01, 0.  , 0.  ],\n",
       "       [0.02, 0.02, 0.  , 0.1 , 0.86],\n",
       "       [0.88, 0.  , 0.03, 0.05, 0.04],\n",
       "       [0.01, 0.  , 0.  , 0.  , 0.99],\n",
       "       [0.09, 0.  , 0.01, 0.06, 0.84],\n",
       "       [0.96, 0.  , 0.  , 0.02, 0.02],\n",
       "       [0.01, 0.03, 0.19, 0.37, 0.4 ],\n",
       "       [0.04, 0.04, 0.03, 0.71, 0.18],\n",
       "       [0.99, 0.  , 0.  , 0.  , 0.01],\n",
       "       [0.05, 0.11, 0.02, 0.31, 0.51],\n",
       "       [0.93, 0.  , 0.01, 0.01, 0.05],\n",
       "       [0.04, 0.12, 0.73, 0.07, 0.04],\n",
       "       [0.03, 0.  , 0.06, 0.04, 0.87],\n",
       "       [0.97, 0.02, 0.  , 0.01, 0.  ],\n",
       "       [0.02, 0.  , 0.05, 0.04, 0.89],\n",
       "       [0.87, 0.  , 0.  , 0.09, 0.04],\n",
       "       [0.91, 0.08, 0.01, 0.  , 0.  ],\n",
       "       [0.93, 0.05, 0.01, 0.01, 0.  ],\n",
       "       [0.03, 0.03, 0.  , 0.13, 0.81],\n",
       "       [0.99, 0.  , 0.01, 0.  , 0.  ],\n",
       "       [0.96, 0.  , 0.03, 0.  , 0.01],\n",
       "       [0.97, 0.  , 0.  , 0.  , 0.03],\n",
       "       [0.  , 0.02, 0.  , 0.13, 0.85],\n",
       "       [0.02, 0.02, 0.  , 0.11, 0.85],\n",
       "       [1.  , 0.  , 0.  , 0.  , 0.  ],\n",
       "       [0.93, 0.  , 0.  , 0.01, 0.06],\n",
       "       [0.1 , 0.07, 0.04, 0.37, 0.42]])"
      ]
     },
     "execution_count": 137,
     "metadata": {},
     "output_type": "execute_result"
    }
   ],
   "source": [
    "#Compararlo con el modelo de random forest\n",
    "y_forest = cross_val_predict(rfc, x_train, y_train, cv=3, method=\"predict_proba\")\n",
    "y_forest"
   ]
  },
  {
   "cell_type": "code",
   "execution_count": 143,
   "id": "40ed836a",
   "metadata": {},
   "outputs": [
    {
     "data": {
      "image/png": "[encoded data removed]",
      "text/plain": [
       "<Figure size 640x480 with 1 Axes>"
      ]
     },
     "metadata": {},
     "output_type": "display_data"
    }
   ],
   "source": [
    "#Graficar la curva ROC y la predicción de random forest \n",
    "clase_objetivo = 4\n",
    "\n",
    "y_train_bin = (y_train == clase_objetivo)\n",
    "y_scores_sgd_clase = y_scores[:, clase_objetivo]\n",
    "y_scores_forest_clase = y_forest[:, clase_objetivo]\n",
    "\n",
    "fpr_sgd, tpr_sgd, _ = roc_curve(y_train_bin, y_scores_sgd_clase)\n",
    "fpr_forest, tpr_forest, _ = roc_curve(y_train_bin, y_scores_forest_clase)\n",
    "\n",
    "plt.plot(fpr_sgd, tpr_sgd, label=\"SGD ROC Curve\")\n",
    "plt.plot(fpr_forest, tpr_forest, label=\"RF ROC Curve\")\n",
    "plt.plot([0, 1], [0, 1], 'k--', label=\"Aleatorio\")\n",
    "\n",
    "plt.xlabel(\"False Positive Rate\")\n",
    "plt.ylabel(\"True Positive Rate\")\n",
    "plt.title(f\"Curva ROC - Clase {clase_objetivo}\")\n",
    "plt.grid(True)\n",
    "plt.show()\n"
   ]
  },
  {
   "cell_type": "code",
   "execution_count": 146,
   "id": "3da0b336",
   "metadata": {},
   "outputs": [
    {
     "data": {
      "text/plain": [
       "0.9989812821348181"
      ]
     },
     "execution_count": 146,
     "metadata": {},
     "output_type": "execute_result"
    }
   ],
   "source": [
    "#Calcular el puntaje (área bajo la curva) de random forest  \n",
    "auc_forest = roc_auc_score(y_train, y_forest, multi_class='ovr', average='macro')\n",
    "auc_forest"
   ]
  },
  {
   "cell_type": "markdown",
   "id": "ed57351c-fef1-43a2-abb8-000bb34d9e60",
   "metadata": {},
   "source": [
    "***"
   ]
  },
  {
   "cell_type": "markdown",
   "id": "869d66e8",
   "metadata": {},
   "source": [
    "## <span style=\"color:green\">7. Clasificadores Multiclase</span>\n"
   ]
  },
  {
   "cell_type": "code",
   "execution_count": 149,
   "id": "f3754467",
   "metadata": {},
   "outputs": [
    {
     "name": "stderr",
     "output_type": "stream",
     "text": [
      "C:\\Users\\user\\AppData\\Local\\Packages\\PythonSoftwareFoundation.Python.3.11_qbz5n2kfra8p0\\LocalCache\\local-packages\\Python311\\site-packages\\sklearn\\utils\\validation.py:2749: UserWarning: X does not have valid feature names, but SVC was fitted with feature names\n",
      "  warnings.warn(\n"
     ]
    },
    {
     "data": {
      "text/plain": [
       "array([0])"
      ]
     },
     "execution_count": 149,
     "metadata": {},
     "output_type": "execute_result"
    }
   ],
   "source": [
    "# Importar SVC=Support Vector Classifier\n",
    "from sklearn.svm import SVC\n",
    "#Predecir a un humano aleatorio para ver que todo este funcionando bien \n",
    "svm = SVC()\n",
    "\n",
    "svm.fit(x_train,y_train)\n",
    "\n",
    "svm.predict([[25, 0, 1, 0, 167]])"
   ]
  },
  {
   "cell_type": "code",
   "execution_count": 150,
   "id": "ea8321ef",
   "metadata": {},
   "outputs": [
    {
     "name": "stderr",
     "output_type": "stream",
     "text": [
      "C:\\Users\\user\\AppData\\Local\\Packages\\PythonSoftwareFoundation.Python.3.11_qbz5n2kfra8p0\\LocalCache\\local-packages\\Python311\\site-packages\\sklearn\\utils\\validation.py:2749: UserWarning: X does not have valid feature names, but SVC was fitted with feature names\n",
      "  warnings.warn(\n"
     ]
    },
    {
     "data": {
      "text/plain": [
       "array([[ 4.29349959,  1.78865857,  0.769853  , -0.27117688,  3.16304987]])"
      ]
     },
     "execution_count": 150,
     "metadata": {},
     "output_type": "execute_result"
    }
   ],
   "source": [
    "#Utilizar decision_function para observar los puntajes de cada medicina \n",
    "some_scores = svm.decision_function([[25, 0, 1, 0, 167]])\n",
    "\n",
    "some_scores\n",
    "#Decidirá por el qué tenga mayor puntaje"
   ]
  },
  {
   "cell_type": "code",
   "execution_count": 153,
   "id": "b254626c",
   "metadata": {},
   "outputs": [
    {
     "name": "stderr",
     "output_type": "stream",
     "text": [
      "C:\\Users\\user\\AppData\\Local\\Packages\\PythonSoftwareFoundation.Python.3.11_qbz5n2kfra8p0\\LocalCache\\local-packages\\Python311\\site-packages\\sklearn\\utils\\validation.py:2749: UserWarning: X does not have valid feature names, but SVC was fitted with feature names\n",
      "  warnings.warn(\n"
     ]
    },
    {
     "data": {
      "text/plain": [
       "np.int64(0)"
      ]
     },
     "execution_count": 153,
     "metadata": {},
     "output_type": "execute_result"
    }
   ],
   "source": [
    "#Ahora, utiliza el clasificador multiclase \n",
    "np.argmax(some_scores)\n",
    "#Predecir a un humano ahora con este clasificador\n",
    "svm = SVC(probability=True)\n",
    "svm.fit(x_train, y_train)\n",
    "\n",
    "nuevo_ejemplo = [[25, 0, 1, 0, 167]]\n",
    "some_scores = svm.predict_proba(nuevo_ejemplo)  # Devuelve array 2D con probabilidad por clase\n",
    "\n",
    "# Obtener clase con mayor score/probabilidad\n",
    "clase_predicha = np.argmax(some_scores)\n",
    "clase_predicha"
   ]
  },
  {
   "cell_type": "code",
   "execution_count": 155,
   "id": "0977941f",
   "metadata": {},
   "outputs": [
    {
     "name": "stderr",
     "output_type": "stream",
     "text": [
      "C:\\Users\\user\\AppData\\Local\\Packages\\PythonSoftwareFoundation.Python.3.11_qbz5n2kfra8p0\\LocalCache\\local-packages\\Python311\\site-packages\\sklearn\\utils\\validation.py:2749: UserWarning: X does not have valid feature names, but SVC was fitted with feature names\n",
      "  warnings.warn(\n"
     ]
    },
    {
     "data": {
      "text/plain": [
       "array([[ 4.29349959,  1.78865857,  0.769853  , -0.27117688,  3.16304987]])"
      ]
     },
     "execution_count": 155,
     "metadata": {},
     "output_type": "execute_result"
    }
   ],
   "source": [
    "#Utilizar decision_function para observar los puntajes de cada medicina \n",
    "some_scores = svm.decision_function([[25, 0, 1, 0, 167]])\n",
    "some_scores"
   ]
  },
  {
   "cell_type": "code",
   "execution_count": 157,
   "id": "f62ef031-ec16-45b1-9529-141f2a56fecd",
   "metadata": {},
   "outputs": [
    {
     "name": "stderr",
     "output_type": "stream",
     "text": [
      "C:\\Users\\user\\AppData\\Local\\Packages\\PythonSoftwareFoundation.Python.3.11_qbz5n2kfra8p0\\LocalCache\\local-packages\\Python311\\site-packages\\sklearn\\utils\\validation.py:2749: UserWarning: X does not have valid feature names, but SVC was fitted with feature names\n",
      "  warnings.warn(\n"
     ]
    },
    {
     "data": {
      "text/plain": [
       "array([0])"
      ]
     },
     "execution_count": 157,
     "metadata": {},
     "output_type": "execute_result"
    }
   ],
   "source": [
    "#campararlo con los datos obtenidos de sgd.fit \n",
    "from sklearn.svm import SVC\n",
    "\n",
    "svm = SVC()\n",
    "svm.fit(x_train,y_train)\n",
    "svm.predict([[25, 0, 1, 0, 167]])"
   ]
  },
  {
   "cell_type": "markdown",
   "id": "01d14327-bb72-4e3d-8dde-e383892136b4",
   "metadata": {},
   "source": [
    "***"
   ]
  },
  {
   "cell_type": "markdown",
   "id": "db247461",
   "metadata": {},
   "source": [
    "## <span style=\"color:green\">8. Analizar Errores</span>"
   ]
  },
  {
   "cell_type": "code",
   "execution_count": 161,
   "id": "2f184f37-4640-4733-8c54-911f7c99ef2f",
   "metadata": {},
   "outputs": [
    {
     "data": {
      "text/plain": [
       "array([[15,  0,  0,  0,  0],\n",
       "       [ 0,  6,  0,  0,  0],\n",
       "       [ 0,  0,  3,  0,  0],\n",
       "       [ 0,  0,  0,  5,  0],\n",
       "       [ 0,  0,  0,  0, 11]])"
      ]
     },
     "execution_count": 161,
     "metadata": {},
     "output_type": "execute_result"
    }
   ],
   "source": [
    "#Hacer un clasificador de random forest\n",
    "x_train, x_test, y_train, y_test = train_test_split(x, y, test_size=0.2, random_state=42)\n",
    "\n",
    "rfc = RandomForestClassifier(n_estimators=100, random_state=42)\n",
    "\n",
    "rfc.fit(x_train, y_train)\n",
    "\n",
    "y_pred = rfc.predict(x_test)\n",
    "\n",
    "conf_mz = confusion_matrix(y_test, y_pred)\n",
    "conf_mz"
   ]
  },
  {
   "cell_type": "code",
   "execution_count": 159,
   "id": "fb8f5f40",
   "metadata": {},
   "outputs": [
    {
     "data": {
      "text/plain": [
       "array([[75,  0,  0,  1,  0],\n",
       "       [ 0, 17,  0,  0,  0],\n",
       "       [ 0,  1, 12,  0,  0],\n",
       "       [ 0,  0,  0,  7,  4],\n",
       "       [ 0,  0,  0,  0, 43]])"
      ]
     },
     "execution_count": 159,
     "metadata": {},
     "output_type": "execute_result"
    }
   ],
   "source": [
    "#Utilizar la matriz de confusión \n",
    "y_train_pred = cross_val_predict(rfc, x_train, y_train, cv=3)\n",
    "\n",
    "conf_mz = confusion_matrix(y_train, y_train_pred)\n",
    "conf_mz"
   ]
  },
  {
   "cell_type": "code",
   "execution_count": 160,
   "id": "3489af35-b3f2-4001-9e2f-67b5696c44f7",
   "metadata": {},
   "outputs": [
    {
     "data": {
      "text/plain": [
       "array([[68,  0,  0,  6,  2],\n",
       "       [ 6,  0,  5,  4,  2],\n",
       "       [ 0,  0,  4,  4,  5],\n",
       "       [ 2,  0,  2,  3,  4],\n",
       "       [ 7,  0,  8, 11, 17]])"
      ]
     },
     "execution_count": 160,
     "metadata": {},
     "output_type": "execute_result"
    }
   ],
   "source": [
    "#utilizar ahora SGD\n",
    "sgd = SGDClassifier(loss='log_loss', max_iter=1000, tol=1e-3)\n",
    "\n",
    "y_train_pred_sgd = cross_val_predict(sgd, x_train, y_train, cv=3)\n",
    "\n",
    "conf_mz_sgd = confusion_matrix(y_train, y_train_pred_sgd)\n",
    "conf_mz_sgd"
   ]
  }
 ],
 "metadata": {
  "kernelspec": {
   "display_name": "Python 3",
   "language": "python",
   "name": "python3"
  },
  "language_info": {
   "codemirror_mode": {
    "name": "ipython",
    "version": 3
   },
   "file_extension": ".py",
   "mimetype": "text/x-python",
   "name": "python",
   "nbconvert_exporter": "python",
   "pygments_lexer": "ipython3",
   "version": "3.11.9"
  }
 },
 "nbformat": 4,
 "nbformat_minor": 5
}
